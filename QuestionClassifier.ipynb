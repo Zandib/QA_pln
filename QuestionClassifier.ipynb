{
 "cells": [
  {
   "cell_type": "markdown",
   "metadata": {},
   "source": [
    "### Imports"
   ]
  },
  {
   "cell_type": "code",
   "execution_count": 91,
   "metadata": {},
   "outputs": [
    {
     "name": "stderr",
     "output_type": "stream",
     "text": [
      "[nltk_data] Downloading package brown to\n",
      "[nltk_data]     C:\\Users\\g.dib\\AppData\\Roaming\\nltk_data...\n",
      "[nltk_data]   Package brown is already up-to-date!\n",
      "[nltk_data] Downloading package universal_tagset to\n",
      "[nltk_data]     C:\\Users\\g.dib\\AppData\\Roaming\\nltk_data...\n",
      "[nltk_data]   Package universal_tagset is already up-to-date!\n",
      "[nltk_data] Downloading package stopwords to\n",
      "[nltk_data]     C:\\Users\\g.dib\\AppData\\Roaming\\nltk_data...\n",
      "[nltk_data]   Package stopwords is already up-to-date!\n"
     ]
    },
    {
     "data": {
      "text/plain": [
       "True"
      ]
     },
     "execution_count": 91,
     "metadata": {},
     "output_type": "execute_result"
    }
   ],
   "source": [
    "import pandas as pd\n",
    "import numpy as np\n",
    "import nltk\n",
    "from nltk.corpus import brown\n",
    "from nltk.tag import untag\n",
    "from nltk import DefaultTagger\n",
    "from nltk import UnigramTagger\n",
    "from nltk import NgramTagger\n",
    "from sklearn import preprocessing\n",
    "from sklearn.cluster import KMeans\n",
    "from sklearn.decomposition import PCA\n",
    "import matplotlib.pyplot as plt\n",
    "import pylab as pl\n",
    "from sklearn.feature_extraction.text import TfidfVectorizer\n",
    "from sklearn.naive_bayes import MultinomialNB\n",
    "from sklearn.metrics import accuracy_score\n",
    "from sklearn.metrics import roc_auc_score\n",
    "from sklearn.metrics import precision_score\n",
    "from sklearn.multiclass import OneVsRestClassifier\n",
    "from sklearn.model_selection import train_test_split\n",
    "from sklearn.pipeline import Pipeline\n",
    "from nltk.corpus import stopwords\n",
    "\n",
    "nltk.download('brown')\n",
    "nltk.download('universal_tagset')\n",
    "nltk.download('stopwords')"
   ]
  },
  {
   "cell_type": "markdown",
   "metadata": {},
   "source": [
    "### Loads"
   ]
  },
  {
   "cell_type": "code",
   "execution_count": 2,
   "metadata": {},
   "outputs": [],
   "source": [
    "df_q = pd.read_csv(\"../Data/Questions.csv\",encoding='latin')"
   ]
  },
  {
   "cell_type": "markdown",
   "metadata": {},
   "source": [
    "## Syntactic Analysis"
   ]
  },
  {
   "cell_type": "markdown",
   "metadata": {},
   "source": [
    "### Word Tagg"
   ]
  },
  {
   "cell_type": "code",
   "execution_count": 3,
   "metadata": {},
   "outputs": [],
   "source": [
    "#Loading brown corpus\n",
    "brown_news_tagged = brown.tagged_sents(tagset='universal')\n",
    "brown_news_words = brown.tagged_words(tagset='universal')"
   ]
  },
  {
   "cell_type": "code",
   "execution_count": 4,
   "metadata": {},
   "outputs": [
    {
     "data": {
      "text/plain": [
       "[[('The', 'DET'), ('Fulton', 'NOUN'), ('County', 'NOUN'), ('Grand', 'ADJ'), ('Jury', 'NOUN'), ('said', 'VERB'), ('Friday', 'NOUN'), ('an', 'DET'), ('investigation', 'NOUN'), ('of', 'ADP'), (\"Atlanta's\", 'NOUN'), ('recent', 'ADJ'), ('primary', 'NOUN'), ('election', 'NOUN'), ('produced', 'VERB'), ('``', '.'), ('no', 'DET'), ('evidence', 'NOUN'), (\"''\", '.'), ('that', 'ADP'), ('any', 'DET'), ('irregularities', 'NOUN'), ('took', 'VERB'), ('place', 'NOUN'), ('.', '.')], [('The', 'DET'), ('jury', 'NOUN'), ('further', 'ADV'), ('said', 'VERB'), ('in', 'ADP'), ('term-end', 'NOUN'), ('presentments', 'NOUN'), ('that', 'ADP'), ('the', 'DET'), ('City', 'NOUN'), ('Executive', 'ADJ'), ('Committee', 'NOUN'), (',', '.'), ('which', 'DET'), ('had', 'VERB'), ('over-all', 'ADJ'), ('charge', 'NOUN'), ('of', 'ADP'), ('the', 'DET'), ('election', 'NOUN'), (',', '.'), ('``', '.'), ('deserves', 'VERB'), ('the', 'DET'), ('praise', 'NOUN'), ('and', 'CONJ'), ('thanks', 'NOUN'), ('of', 'ADP'), ('the', 'DET'), ('City', 'NOUN'), ('of', 'ADP'), ('Atlanta', 'NOUN'), (\"''\", '.'), ('for', 'ADP'), ('the', 'DET'), ('manner', 'NOUN'), ('in', 'ADP'), ('which', 'DET'), ('the', 'DET'), ('election', 'NOUN'), ('was', 'VERB'), ('conducted', 'VERB'), ('.', '.')], ...]"
      ]
     },
     "execution_count": 4,
     "metadata": {},
     "output_type": "execute_result"
    }
   ],
   "source": [
    "brown_news_tagged"
   ]
  },
  {
   "cell_type": "code",
   "execution_count": 5,
   "metadata": {},
   "outputs": [],
   "source": [
    "brown_train = brown_news_tagged[5000:]\n",
    "brown_test = brown_news_tagged[:5000]"
   ]
  },
  {
   "cell_type": "markdown",
   "metadata": {},
   "source": [
    "#### Unigrams"
   ]
  },
  {
   "cell_type": "code",
   "execution_count": 6,
   "metadata": {},
   "outputs": [
    {
     "name": "stdout",
     "output_type": "stream",
     "text": [
      "Unigram tagger with backoff accuracy: 94.5%\n"
     ]
    }
   ],
   "source": [
    "#Add allNouns to backoff\n",
    "nn_tagger = DefaultTagger('NOUN')\n",
    "#Train Tagger\n",
    "ut2 = UnigramTagger(brown_train, backoff=nn_tagger)\n",
    "print('Unigram tagger with backoff accuracy: %4.1f%%' % ( 100.0 * ut2.evaluate(brown_test)))"
   ]
  },
  {
   "cell_type": "markdown",
   "metadata": {},
   "source": [
    "#### Bigrams"
   ]
  },
  {
   "cell_type": "code",
   "execution_count": 7,
   "metadata": {},
   "outputs": [],
   "source": [
    "#ct2 = NgramTagger(2, brown_train, backoff=nn_tagger)\n",
    "#print('Bigram tagger with backoff accuracy: %4.1f%%' % ( 100.0 * ct2.evaluate(brown_test)))"
   ]
  },
  {
   "cell_type": "markdown",
   "metadata": {},
   "source": [
    "#### Trigrams"
   ]
  },
  {
   "cell_type": "code",
   "execution_count": 8,
   "metadata": {},
   "outputs": [],
   "source": [
    "#ct3 = NgramTagger(3, brown_train, backoff=nn_tagger)\n",
    "#print('Bigram tagger with backoff accuracy: %4.1f%%' % ( 100.0 * ct3.evaluate(brown_test)))"
   ]
  },
  {
   "cell_type": "code",
   "execution_count": 9,
   "metadata": {},
   "outputs": [],
   "source": [
    "#try:\n",
    "#    del ct2\n",
    "#except:\n",
    "#    print('non-existent')\n",
    "#try:\n",
    "#    del ct3\n",
    "#except:\n",
    "#    print('non-existent')"
   ]
  },
  {
   "cell_type": "markdown",
   "metadata": {},
   "source": [
    "### DataPrep"
   ]
  },
  {
   "cell_type": "code",
   "execution_count": 10,
   "metadata": {},
   "outputs": [],
   "source": [
    "df_q = df_q.loc[df_q.Score < 3000]\n",
    "df_q.Title = df_q.Title.str.replace('?',' ?')\n",
    "df_q.Title = df_q.Title.str.replace('.',' .')\n",
    "df_q.Title = df_q.Title.str.replace(',',' ,')\n",
    "df_q.Title = df_q.Title.str.replace('!',' !')\n",
    "deletable = ['OwnerUserId','CreationDate','ClosedDate','Body']\n",
    "for d in deletable:\n",
    "    if d in df_q.columns:\n",
    "        del df_q[d]"
   ]
  },
  {
   "cell_type": "code",
   "execution_count": 11,
   "metadata": {},
   "outputs": [],
   "source": [
    "def getTaggedStr(t):\n",
    "    x = ut2.tag(t.split(' '))\n",
    "    l = []\n",
    "    for item in x:\n",
    "        l.append('('+item[0]+','+item[1]+')')\n",
    "    return ' '.join(l)"
   ]
  },
  {
   "cell_type": "code",
   "execution_count": 12,
   "metadata": {},
   "outputs": [
    {
     "data": {
      "text/html": [
       "<div>\n",
       "<style scoped>\n",
       "    .dataframe tbody tr th:only-of-type {\n",
       "        vertical-align: middle;\n",
       "    }\n",
       "\n",
       "    .dataframe tbody tr th {\n",
       "        vertical-align: top;\n",
       "    }\n",
       "\n",
       "    .dataframe thead th {\n",
       "        text-align: right;\n",
       "    }\n",
       "</style>\n",
       "<table border=\"1\" class=\"dataframe\">\n",
       "  <thead>\n",
       "    <tr style=\"text-align: right;\">\n",
       "      <th></th>\n",
       "      <th>TagTitle</th>\n",
       "    </tr>\n",
       "  </thead>\n",
       "  <tbody>\n",
       "    <tr>\n",
       "      <th>0</th>\n",
       "      <td>(SQLStatement,NOUN) (.execute(),NOUN) (-,ADP) ...</td>\n",
       "    </tr>\n",
       "    <tr>\n",
       "      <th>1</th>\n",
       "      <td>(Good,ADJ) (branching,VERB) (and,CONJ) (mergin...</td>\n",
       "    </tr>\n",
       "    <tr>\n",
       "      <th>2</th>\n",
       "      <td>(ASP,NOUN) (.NET,NOUN) (Site,NOUN) (Maps,NOUN)</td>\n",
       "    </tr>\n",
       "    <tr>\n",
       "      <th>3</th>\n",
       "      <td>(Function,NOUN) (for,ADP) (creating,VERB) (col...</td>\n",
       "    </tr>\n",
       "    <tr>\n",
       "      <th>4</th>\n",
       "      <td>(Adding,NOUN) (scripting,NOUN) (functionality,...</td>\n",
       "    </tr>\n",
       "  </tbody>\n",
       "</table>\n",
       "</div>"
      ],
      "text/plain": [
       "                                            TagTitle\n",
       "0  (SQLStatement,NOUN) (.execute(),NOUN) (-,ADP) ...\n",
       "1  (Good,ADJ) (branching,VERB) (and,CONJ) (mergin...\n",
       "2     (ASP,NOUN) (.NET,NOUN) (Site,NOUN) (Maps,NOUN)\n",
       "3  (Function,NOUN) (for,ADP) (creating,VERB) (col...\n",
       "4  (Adding,NOUN) (scripting,NOUN) (functionality,..."
      ]
     },
     "execution_count": 12,
     "metadata": {},
     "output_type": "execute_result"
    }
   ],
   "source": [
    "#Tag All\n",
    "df_q['TagTitle'] = df_q['Title'].apply(lambda x: getTaggedStr(x))\n",
    "df_q[['TagTitle']].head()"
   ]
  },
  {
   "cell_type": "code",
   "execution_count": 13,
   "metadata": {},
   "outputs": [],
   "source": [
    "def countTag(tag,text):\n",
    "    tags = ut2.tag(text.split(' '))\n",
    "    count=0\n",
    "    for item in tags:\n",
    "        if(item[1]==tag):\n",
    "            count+=1\n",
    "    return count\n",
    "def getFreq(n,text):\n",
    "    f = n/len(text.split(' '))\n",
    "    return f"
   ]
  },
  {
   "cell_type": "code",
   "execution_count": 14,
   "metadata": {},
   "outputs": [
    {
     "data": {
      "text/html": [
       "<div>\n",
       "<style scoped>\n",
       "    .dataframe tbody tr th:only-of-type {\n",
       "        vertical-align: middle;\n",
       "    }\n",
       "\n",
       "    .dataframe tbody tr th {\n",
       "        vertical-align: top;\n",
       "    }\n",
       "\n",
       "    .dataframe thead th {\n",
       "        text-align: right;\n",
       "    }\n",
       "</style>\n",
       "<table border=\"1\" class=\"dataframe\">\n",
       "  <thead>\n",
       "    <tr style=\"text-align: right;\">\n",
       "      <th></th>\n",
       "      <th>Id</th>\n",
       "      <th>Score</th>\n",
       "      <th>Title</th>\n",
       "      <th>TagTitle</th>\n",
       "      <th>freq_noun</th>\n",
       "      <th>freq_adj</th>\n",
       "      <th>freq_adv</th>\n",
       "      <th>freq_adp</th>\n",
       "      <th>freq_conj</th>\n",
       "      <th>freq_pron</th>\n",
       "      <th>freq_prt</th>\n",
       "      <th>freq_pont</th>\n",
       "      <th>freq_det</th>\n",
       "      <th>freq_num</th>\n",
       "      <th>freq_x</th>\n",
       "    </tr>\n",
       "  </thead>\n",
       "  <tbody>\n",
       "    <tr>\n",
       "      <th>0</th>\n",
       "      <td>80</td>\n",
       "      <td>26</td>\n",
       "      <td>SQLStatement .execute() - multiple queries in ...</td>\n",
       "      <td>(SQLStatement,NOUN) (.execute(),NOUN) (-,ADP) ...</td>\n",
       "      <td>0.500000</td>\n",
       "      <td>0.125</td>\n",
       "      <td>0.0</td>\n",
       "      <td>0.250</td>\n",
       "      <td>0.000</td>\n",
       "      <td>0.0</td>\n",
       "      <td>0.000000</td>\n",
       "      <td>0.000</td>\n",
       "      <td>0.0</td>\n",
       "      <td>0.125</td>\n",
       "      <td>0.0</td>\n",
       "    </tr>\n",
       "    <tr>\n",
       "      <th>1</th>\n",
       "      <td>90</td>\n",
       "      <td>144</td>\n",
       "      <td>Good branching and merging tutorials for Torto...</td>\n",
       "      <td>(Good,ADJ) (branching,VERB) (and,CONJ) (mergin...</td>\n",
       "      <td>0.250000</td>\n",
       "      <td>0.125</td>\n",
       "      <td>0.0</td>\n",
       "      <td>0.125</td>\n",
       "      <td>0.125</td>\n",
       "      <td>0.0</td>\n",
       "      <td>0.000000</td>\n",
       "      <td>0.125</td>\n",
       "      <td>0.0</td>\n",
       "      <td>0.000</td>\n",
       "      <td>0.0</td>\n",
       "    </tr>\n",
       "    <tr>\n",
       "      <th>2</th>\n",
       "      <td>120</td>\n",
       "      <td>21</td>\n",
       "      <td>ASP .NET Site Maps</td>\n",
       "      <td>(ASP,NOUN) (.NET,NOUN) (Site,NOUN) (Maps,NOUN)</td>\n",
       "      <td>1.000000</td>\n",
       "      <td>0.000</td>\n",
       "      <td>0.0</td>\n",
       "      <td>0.000</td>\n",
       "      <td>0.000</td>\n",
       "      <td>0.0</td>\n",
       "      <td>0.000000</td>\n",
       "      <td>0.000</td>\n",
       "      <td>0.0</td>\n",
       "      <td>0.000</td>\n",
       "      <td>0.0</td>\n",
       "    </tr>\n",
       "    <tr>\n",
       "      <th>3</th>\n",
       "      <td>180</td>\n",
       "      <td>53</td>\n",
       "      <td>Function for creating color wheels</td>\n",
       "      <td>(Function,NOUN) (for,ADP) (creating,VERB) (col...</td>\n",
       "      <td>0.600000</td>\n",
       "      <td>0.000</td>\n",
       "      <td>0.0</td>\n",
       "      <td>0.200</td>\n",
       "      <td>0.000</td>\n",
       "      <td>0.0</td>\n",
       "      <td>0.000000</td>\n",
       "      <td>0.000</td>\n",
       "      <td>0.0</td>\n",
       "      <td>0.000</td>\n",
       "      <td>0.0</td>\n",
       "    </tr>\n",
       "    <tr>\n",
       "      <th>4</th>\n",
       "      <td>260</td>\n",
       "      <td>49</td>\n",
       "      <td>Adding scripting functionality to  .NET applic...</td>\n",
       "      <td>(Adding,NOUN) (scripting,NOUN) (functionality,...</td>\n",
       "      <td>0.857143</td>\n",
       "      <td>0.000</td>\n",
       "      <td>0.0</td>\n",
       "      <td>0.000</td>\n",
       "      <td>0.000</td>\n",
       "      <td>0.0</td>\n",
       "      <td>0.142857</td>\n",
       "      <td>0.000</td>\n",
       "      <td>0.0</td>\n",
       "      <td>0.000</td>\n",
       "      <td>0.0</td>\n",
       "    </tr>\n",
       "  </tbody>\n",
       "</table>\n",
       "</div>"
      ],
      "text/plain": [
       "    Id  Score                                              Title  \\\n",
       "0   80     26  SQLStatement .execute() - multiple queries in ...   \n",
       "1   90    144  Good branching and merging tutorials for Torto...   \n",
       "2  120     21                                 ASP .NET Site Maps   \n",
       "3  180     53                 Function for creating color wheels   \n",
       "4  260     49  Adding scripting functionality to  .NET applic...   \n",
       "\n",
       "                                            TagTitle  freq_noun  freq_adj  \\\n",
       "0  (SQLStatement,NOUN) (.execute(),NOUN) (-,ADP) ...   0.500000     0.125   \n",
       "1  (Good,ADJ) (branching,VERB) (and,CONJ) (mergin...   0.250000     0.125   \n",
       "2     (ASP,NOUN) (.NET,NOUN) (Site,NOUN) (Maps,NOUN)   1.000000     0.000   \n",
       "3  (Function,NOUN) (for,ADP) (creating,VERB) (col...   0.600000     0.000   \n",
       "4  (Adding,NOUN) (scripting,NOUN) (functionality,...   0.857143     0.000   \n",
       "\n",
       "   freq_adv  freq_adp  freq_conj  freq_pron  freq_prt  freq_pont  freq_det  \\\n",
       "0       0.0     0.250      0.000        0.0  0.000000      0.000       0.0   \n",
       "1       0.0     0.125      0.125        0.0  0.000000      0.125       0.0   \n",
       "2       0.0     0.000      0.000        0.0  0.000000      0.000       0.0   \n",
       "3       0.0     0.200      0.000        0.0  0.000000      0.000       0.0   \n",
       "4       0.0     0.000      0.000        0.0  0.142857      0.000       0.0   \n",
       "\n",
       "   freq_num  freq_x  \n",
       "0     0.125     0.0  \n",
       "1     0.000     0.0  \n",
       "2     0.000     0.0  \n",
       "3     0.000     0.0  \n",
       "4     0.000     0.0  "
      ]
     },
     "execution_count": 14,
     "metadata": {},
     "output_type": "execute_result"
    }
   ],
   "source": [
    "df_q['freq_noun'] = df_q['Title'].apply(lambda x: getFreq(countTag('NOUN',x),x))\n",
    "df_q['freq_adj'] = df_q['Title'].apply(lambda x: getFreq(countTag('ADJ',x),x))\n",
    "df_q['freq_adv'] = df_q['Title'].apply(lambda x: getFreq(countTag('ADV',x),x))\n",
    "df_q['freq_adp'] = df_q['Title'].apply(lambda x: getFreq(countTag('ADP',x),x))\n",
    "df_q['freq_conj'] = df_q['Title'].apply(lambda x: getFreq(countTag('CONJ',x),x))\n",
    "df_q['freq_pron'] = df_q['Title'].apply(lambda x: getFreq(countTag('PRON',x),x))\n",
    "df_q['freq_prt'] = df_q['Title'].apply(lambda x: getFreq(countTag('PRT',x),x))\n",
    "df_q['freq_pont'] = df_q['Title'].apply(lambda x: getFreq(countTag('.',x),x))\n",
    "df_q['freq_det'] = df_q['Title'].apply(lambda x: getFreq(countTag('DET',x),x))\n",
    "df_q['freq_num'] = df_q['Title'].apply(lambda x: getFreq(countTag('NUM',x),x))\n",
    "df_q['freq_x'] = df_q['Title'].apply(lambda x: getFreq(countTag('X',x),x))\n",
    "df_q.head()"
   ]
  },
  {
   "cell_type": "code",
   "execution_count": 15,
   "metadata": {},
   "outputs": [],
   "source": [
    "x = df_q[['Score']].values.astype(float)\n",
    "min_max_scaler = preprocessing.MinMaxScaler()\n",
    "x_scaled = min_max_scaler.fit_transform(x)\n",
    "df_q['n_score'] = pd.DataFrame(x_scaled)"
   ]
  },
  {
   "cell_type": "code",
   "execution_count": 16,
   "metadata": {},
   "outputs": [],
   "source": [
    "df_t = pd.read_csv('../Data/Tags.csv',encoding='latin')\n",
    "df_t['Tag'] = df_t['Tag'].astype(str)"
   ]
  },
  {
   "cell_type": "code",
   "execution_count": 17,
   "metadata": {},
   "outputs": [],
   "source": [
    "df_n = df_t.groupby('Id')['Tag'].apply(lambda x: '~~'.join(x))\n",
    "df_n = pd.DataFrame(df_n.reset_index())"
   ]
  },
  {
   "cell_type": "code",
   "execution_count": 18,
   "metadata": {},
   "outputs": [
    {
     "data": {
      "text/html": [
       "<div>\n",
       "<style scoped>\n",
       "    .dataframe tbody tr th:only-of-type {\n",
       "        vertical-align: middle;\n",
       "    }\n",
       "\n",
       "    .dataframe tbody tr th {\n",
       "        vertical-align: top;\n",
       "    }\n",
       "\n",
       "    .dataframe thead th {\n",
       "        text-align: right;\n",
       "    }\n",
       "</style>\n",
       "<table border=\"1\" class=\"dataframe\">\n",
       "  <thead>\n",
       "    <tr style=\"text-align: right;\">\n",
       "      <th></th>\n",
       "      <th>Id</th>\n",
       "      <th>Tag</th>\n",
       "    </tr>\n",
       "  </thead>\n",
       "  <tbody>\n",
       "    <tr>\n",
       "      <th>0</th>\n",
       "      <td>80</td>\n",
       "      <td>flex~~actionscript-3~~air</td>\n",
       "    </tr>\n",
       "    <tr>\n",
       "      <th>1</th>\n",
       "      <td>90</td>\n",
       "      <td>svn~~tortoisesvn~~branch~~branching-and-merging</td>\n",
       "    </tr>\n",
       "    <tr>\n",
       "      <th>2</th>\n",
       "      <td>120</td>\n",
       "      <td>sql~~asp.net~~sitemap</td>\n",
       "    </tr>\n",
       "    <tr>\n",
       "      <th>3</th>\n",
       "      <td>180</td>\n",
       "      <td>algorithm~~language-agnostic~~colors~~color-space</td>\n",
       "    </tr>\n",
       "    <tr>\n",
       "      <th>4</th>\n",
       "      <td>260</td>\n",
       "      <td>c#~~.net~~scripting~~compiler-construction</td>\n",
       "    </tr>\n",
       "  </tbody>\n",
       "</table>\n",
       "</div>"
      ],
      "text/plain": [
       "    Id                                                Tag\n",
       "0   80                          flex~~actionscript-3~~air\n",
       "1   90    svn~~tortoisesvn~~branch~~branching-and-merging\n",
       "2  120                              sql~~asp.net~~sitemap\n",
       "3  180  algorithm~~language-agnostic~~colors~~color-space\n",
       "4  260         c#~~.net~~scripting~~compiler-construction"
      ]
     },
     "execution_count": 18,
     "metadata": {},
     "output_type": "execute_result"
    }
   ],
   "source": [
    "df_n.head()"
   ]
  },
  {
   "cell_type": "code",
   "execution_count": 19,
   "metadata": {},
   "outputs": [
    {
     "data": {
      "text/html": [
       "<div>\n",
       "<style scoped>\n",
       "    .dataframe tbody tr th:only-of-type {\n",
       "        vertical-align: middle;\n",
       "    }\n",
       "\n",
       "    .dataframe tbody tr th {\n",
       "        vertical-align: top;\n",
       "    }\n",
       "\n",
       "    .dataframe thead th {\n",
       "        text-align: right;\n",
       "    }\n",
       "</style>\n",
       "<table border=\"1\" class=\"dataframe\">\n",
       "  <thead>\n",
       "    <tr style=\"text-align: right;\">\n",
       "      <th></th>\n",
       "      <th>Id</th>\n",
       "      <th>Score</th>\n",
       "      <th>Title</th>\n",
       "      <th>TagTitle</th>\n",
       "      <th>freq_noun</th>\n",
       "      <th>freq_adj</th>\n",
       "      <th>freq_adv</th>\n",
       "      <th>freq_adp</th>\n",
       "      <th>freq_conj</th>\n",
       "      <th>freq_pron</th>\n",
       "      <th>freq_prt</th>\n",
       "      <th>freq_pont</th>\n",
       "      <th>freq_det</th>\n",
       "      <th>freq_num</th>\n",
       "      <th>freq_x</th>\n",
       "      <th>n_score</th>\n",
       "      <th>Tag</th>\n",
       "    </tr>\n",
       "  </thead>\n",
       "  <tbody>\n",
       "    <tr>\n",
       "      <th>7</th>\n",
       "      <td>120</td>\n",
       "      <td>21</td>\n",
       "      <td>ASP .NET Site Maps</td>\n",
       "      <td>(ASP,NOUN) (.NET,NOUN) (Site,NOUN) (Maps,NOUN)</td>\n",
       "      <td>1.0</td>\n",
       "      <td>0.0</td>\n",
       "      <td>0.0</td>\n",
       "      <td>0.0</td>\n",
       "      <td>0.0</td>\n",
       "      <td>0.0</td>\n",
       "      <td>0.0</td>\n",
       "      <td>0.0</td>\n",
       "      <td>0.0</td>\n",
       "      <td>0.0</td>\n",
       "      <td>0.0</td>\n",
       "      <td>0.036015</td>\n",
       "      <td>sql</td>\n",
       "    </tr>\n",
       "    <tr>\n",
       "      <th>8</th>\n",
       "      <td>120</td>\n",
       "      <td>21</td>\n",
       "      <td>ASP .NET Site Maps</td>\n",
       "      <td>(ASP,NOUN) (.NET,NOUN) (Site,NOUN) (Maps,NOUN)</td>\n",
       "      <td>1.0</td>\n",
       "      <td>0.0</td>\n",
       "      <td>0.0</td>\n",
       "      <td>0.0</td>\n",
       "      <td>0.0</td>\n",
       "      <td>0.0</td>\n",
       "      <td>0.0</td>\n",
       "      <td>0.0</td>\n",
       "      <td>0.0</td>\n",
       "      <td>0.0</td>\n",
       "      <td>0.0</td>\n",
       "      <td>0.036015</td>\n",
       "      <td>.net</td>\n",
       "    </tr>\n",
       "    <tr>\n",
       "      <th>9</th>\n",
       "      <td>120</td>\n",
       "      <td>21</td>\n",
       "      <td>ASP .NET Site Maps</td>\n",
       "      <td>(ASP,NOUN) (.NET,NOUN) (Site,NOUN) (Maps,NOUN)</td>\n",
       "      <td>1.0</td>\n",
       "      <td>0.0</td>\n",
       "      <td>0.0</td>\n",
       "      <td>0.0</td>\n",
       "      <td>0.0</td>\n",
       "      <td>0.0</td>\n",
       "      <td>0.0</td>\n",
       "      <td>0.0</td>\n",
       "      <td>0.0</td>\n",
       "      <td>0.0</td>\n",
       "      <td>0.0</td>\n",
       "      <td>0.036015</td>\n",
       "      <td>sitemap</td>\n",
       "    </tr>\n",
       "  </tbody>\n",
       "</table>\n",
       "</div>"
      ],
      "text/plain": [
       "    Id  Score               Title  \\\n",
       "7  120     21  ASP .NET Site Maps   \n",
       "8  120     21  ASP .NET Site Maps   \n",
       "9  120     21  ASP .NET Site Maps   \n",
       "\n",
       "                                         TagTitle  freq_noun  freq_adj  \\\n",
       "7  (ASP,NOUN) (.NET,NOUN) (Site,NOUN) (Maps,NOUN)        1.0       0.0   \n",
       "8  (ASP,NOUN) (.NET,NOUN) (Site,NOUN) (Maps,NOUN)        1.0       0.0   \n",
       "9  (ASP,NOUN) (.NET,NOUN) (Site,NOUN) (Maps,NOUN)        1.0       0.0   \n",
       "\n",
       "   freq_adv  freq_adp  freq_conj  freq_pron  freq_prt  freq_pont  freq_det  \\\n",
       "7       0.0       0.0        0.0        0.0       0.0        0.0       0.0   \n",
       "8       0.0       0.0        0.0        0.0       0.0        0.0       0.0   \n",
       "9       0.0       0.0        0.0        0.0       0.0        0.0       0.0   \n",
       "\n",
       "   freq_num  freq_x   n_score      Tag  \n",
       "7       0.0     0.0  0.036015      sql  \n",
       "8       0.0     0.0  0.036015     .net  \n",
       "9       0.0     0.0  0.036015  sitemap  "
      ]
     },
     "execution_count": 19,
     "metadata": {},
     "output_type": "execute_result"
    }
   ],
   "source": [
    "df_u = df_q.merge(df_t,on='Id',how='inner',suffixes=['',''])\n",
    "df_u.Tag = df_u.Tag.str.lower()\n",
    "df_u.Tag = df_u.Tag.str.replace('asp.net','.net')\n",
    "df_u.loc[df_u.Id==120]"
   ]
  },
  {
   "cell_type": "code",
   "execution_count": 20,
   "metadata": {},
   "outputs": [],
   "source": [
    "del df_n\n",
    "del df_q"
   ]
  },
  {
   "cell_type": "code",
   "execution_count": 21,
   "metadata": {},
   "outputs": [
    {
     "data": {
      "text/plain": [
       "(3750986, 17)"
      ]
     },
     "execution_count": 21,
     "metadata": {},
     "output_type": "execute_result"
    }
   ],
   "source": [
    "df_u.shape"
   ]
  },
  {
   "cell_type": "code",
   "execution_count": 22,
   "metadata": {},
   "outputs": [
    {
     "data": {
      "text/plain": [
       "(13409, 17)"
      ]
     },
     "execution_count": 22,
     "metadata": {},
     "output_type": "execute_result"
    }
   ],
   "source": [
    "df_u.loc[(df_u.Score>50)].shape"
   ]
  },
  {
   "cell_type": "code",
   "execution_count": 23,
   "metadata": {},
   "outputs": [],
   "source": [
    "#df_u = df_u.loc[df_u.Score > 50]"
   ]
  },
  {
   "cell_type": "code",
   "execution_count": 24,
   "metadata": {},
   "outputs": [
    {
     "data": {
      "text/plain": [
       "<matplotlib.collections.PathCollection at 0x1bb65bb6c18>"
      ]
     },
     "execution_count": 24,
     "metadata": {},
     "output_type": "execute_result"
    },
    {
     "data": {
      "image/png": "[encoded data removed]",
      "text/plain": [
       "<Figure size 432x288 with 1 Axes>"
      ]
     },
     "metadata": {
      "needs_background": "light"
     },
     "output_type": "display_data"
    }
   ],
   "source": [
    "plt.scatter(df_u.Id,df_u.Score)"
   ]
  },
  {
   "cell_type": "code",
   "execution_count": 25,
   "metadata": {},
   "outputs": [
    {
     "data": {
      "text/html": [
       "<div>\n",
       "<style scoped>\n",
       "    .dataframe tbody tr th:only-of-type {\n",
       "        vertical-align: middle;\n",
       "    }\n",
       "\n",
       "    .dataframe tbody tr th {\n",
       "        vertical-align: top;\n",
       "    }\n",
       "\n",
       "    .dataframe thead th {\n",
       "        text-align: right;\n",
       "    }\n",
       "</style>\n",
       "<table border=\"1\" class=\"dataframe\">\n",
       "  <thead>\n",
       "    <tr style=\"text-align: right;\">\n",
       "      <th></th>\n",
       "      <th>Id</th>\n",
       "      <th>Score</th>\n",
       "      <th>Title</th>\n",
       "      <th>TagTitle</th>\n",
       "      <th>freq_noun</th>\n",
       "      <th>freq_adj</th>\n",
       "      <th>freq_adv</th>\n",
       "      <th>freq_adp</th>\n",
       "      <th>freq_conj</th>\n",
       "      <th>freq_pron</th>\n",
       "      <th>freq_prt</th>\n",
       "      <th>freq_pont</th>\n",
       "      <th>freq_det</th>\n",
       "      <th>freq_num</th>\n",
       "      <th>freq_x</th>\n",
       "      <th>n_score</th>\n",
       "      <th>Tag</th>\n",
       "    </tr>\n",
       "  </thead>\n",
       "  <tbody>\n",
       "    <tr>\n",
       "      <th>16990</th>\n",
       "      <td>406230</td>\n",
       "      <td>2537</td>\n",
       "      <td>Regular expression to match line that doesn't ...</td>\n",
       "      <td>(Regular,ADJ) (expression,NOUN) (to,PRT) (matc...</td>\n",
       "      <td>0.272727</td>\n",
       "      <td>0.090909</td>\n",
       "      <td>0.0</td>\n",
       "      <td>0.090909</td>\n",
       "      <td>0.0</td>\n",
       "      <td>0.0</td>\n",
       "      <td>0.090909</td>\n",
       "      <td>0.090909</td>\n",
       "      <td>0.090909</td>\n",
       "      <td>0.0</td>\n",
       "      <td>0.0</td>\n",
       "      <td>0.029119</td>\n",
       "      <td>regex</td>\n",
       "    </tr>\n",
       "    <tr>\n",
       "      <th>16991</th>\n",
       "      <td>406230</td>\n",
       "      <td>2537</td>\n",
       "      <td>Regular expression to match line that doesn't ...</td>\n",
       "      <td>(Regular,ADJ) (expression,NOUN) (to,PRT) (matc...</td>\n",
       "      <td>0.272727</td>\n",
       "      <td>0.090909</td>\n",
       "      <td>0.0</td>\n",
       "      <td>0.090909</td>\n",
       "      <td>0.0</td>\n",
       "      <td>0.0</td>\n",
       "      <td>0.090909</td>\n",
       "      <td>0.090909</td>\n",
       "      <td>0.090909</td>\n",
       "      <td>0.0</td>\n",
       "      <td>0.0</td>\n",
       "      <td>0.029119</td>\n",
       "      <td>regex-negation</td>\n",
       "    </tr>\n",
       "    <tr>\n",
       "      <th>22642</th>\n",
       "      <td>520650</td>\n",
       "      <td>2399</td>\n",
       "      <td>Make an existing Git branch track a remote bra...</td>\n",
       "      <td>(Make,VERB) (an,DET) (existing,VERB) (Git,VERB...</td>\n",
       "      <td>0.300000</td>\n",
       "      <td>0.100000</td>\n",
       "      <td>0.0</td>\n",
       "      <td>0.000000</td>\n",
       "      <td>0.0</td>\n",
       "      <td>0.0</td>\n",
       "      <td>0.000000</td>\n",
       "      <td>0.100000</td>\n",
       "      <td>0.200000</td>\n",
       "      <td>0.0</td>\n",
       "      <td>0.0</td>\n",
       "      <td>0.030268</td>\n",
       "      <td>git</td>\n",
       "    </tr>\n",
       "    <tr>\n",
       "      <th>22643</th>\n",
       "      <td>520650</td>\n",
       "      <td>2399</td>\n",
       "      <td>Make an existing Git branch track a remote bra...</td>\n",
       "      <td>(Make,VERB) (an,DET) (existing,VERB) (Git,VERB...</td>\n",
       "      <td>0.300000</td>\n",
       "      <td>0.100000</td>\n",
       "      <td>0.0</td>\n",
       "      <td>0.000000</td>\n",
       "      <td>0.0</td>\n",
       "      <td>0.0</td>\n",
       "      <td>0.000000</td>\n",
       "      <td>0.100000</td>\n",
       "      <td>0.200000</td>\n",
       "      <td>0.0</td>\n",
       "      <td>0.0</td>\n",
       "      <td>0.030268</td>\n",
       "      <td>branch</td>\n",
       "    </tr>\n",
       "    <tr>\n",
       "      <th>22644</th>\n",
       "      <td>520650</td>\n",
       "      <td>2399</td>\n",
       "      <td>Make an existing Git branch track a remote bra...</td>\n",
       "      <td>(Make,VERB) (an,DET) (existing,VERB) (Git,VERB...</td>\n",
       "      <td>0.300000</td>\n",
       "      <td>0.100000</td>\n",
       "      <td>0.0</td>\n",
       "      <td>0.000000</td>\n",
       "      <td>0.0</td>\n",
       "      <td>0.0</td>\n",
       "      <td>0.000000</td>\n",
       "      <td>0.100000</td>\n",
       "      <td>0.200000</td>\n",
       "      <td>0.0</td>\n",
       "      <td>0.0</td>\n",
       "      <td>0.030268</td>\n",
       "      <td>git-branch</td>\n",
       "    </tr>\n",
       "    <tr>\n",
       "      <th>165834</th>\n",
       "      <td>2669690</td>\n",
       "      <td>2363</td>\n",
       "      <td>Why does Google prepend while(1); to their JSO...</td>\n",
       "      <td>(Why,ADV) (does,VERB) (Google,NOUN) (prepend,N...</td>\n",
       "      <td>0.500000</td>\n",
       "      <td>0.000000</td>\n",
       "      <td>0.1</td>\n",
       "      <td>0.000000</td>\n",
       "      <td>0.0</td>\n",
       "      <td>0.0</td>\n",
       "      <td>0.100000</td>\n",
       "      <td>0.100000</td>\n",
       "      <td>0.100000</td>\n",
       "      <td>0.0</td>\n",
       "      <td>0.0</td>\n",
       "      <td>0.029502</td>\n",
       "      <td>javascript</td>\n",
       "    </tr>\n",
       "    <tr>\n",
       "      <th>165835</th>\n",
       "      <td>2669690</td>\n",
       "      <td>2363</td>\n",
       "      <td>Why does Google prepend while(1); to their JSO...</td>\n",
       "      <td>(Why,ADV) (does,VERB) (Google,NOUN) (prepend,N...</td>\n",
       "      <td>0.500000</td>\n",
       "      <td>0.000000</td>\n",
       "      <td>0.1</td>\n",
       "      <td>0.000000</td>\n",
       "      <td>0.0</td>\n",
       "      <td>0.0</td>\n",
       "      <td>0.100000</td>\n",
       "      <td>0.100000</td>\n",
       "      <td>0.100000</td>\n",
       "      <td>0.0</td>\n",
       "      <td>0.0</td>\n",
       "      <td>0.029502</td>\n",
       "      <td>ajax</td>\n",
       "    </tr>\n",
       "    <tr>\n",
       "      <th>165836</th>\n",
       "      <td>2669690</td>\n",
       "      <td>2363</td>\n",
       "      <td>Why does Google prepend while(1); to their JSO...</td>\n",
       "      <td>(Why,ADV) (does,VERB) (Google,NOUN) (prepend,N...</td>\n",
       "      <td>0.500000</td>\n",
       "      <td>0.000000</td>\n",
       "      <td>0.1</td>\n",
       "      <td>0.000000</td>\n",
       "      <td>0.0</td>\n",
       "      <td>0.0</td>\n",
       "      <td>0.100000</td>\n",
       "      <td>0.100000</td>\n",
       "      <td>0.100000</td>\n",
       "      <td>0.0</td>\n",
       "      <td>0.0</td>\n",
       "      <td>0.029502</td>\n",
       "      <td>json</td>\n",
       "    </tr>\n",
       "  </tbody>\n",
       "</table>\n",
       "</div>"
      ],
      "text/plain": [
       "             Id  Score                                              Title  \\\n",
       "16990    406230   2537  Regular expression to match line that doesn't ...   \n",
       "16991    406230   2537  Regular expression to match line that doesn't ...   \n",
       "22642    520650   2399  Make an existing Git branch track a remote bra...   \n",
       "22643    520650   2399  Make an existing Git branch track a remote bra...   \n",
       "22644    520650   2399  Make an existing Git branch track a remote bra...   \n",
       "165834  2669690   2363  Why does Google prepend while(1); to their JSO...   \n",
       "165835  2669690   2363  Why does Google prepend while(1); to their JSO...   \n",
       "165836  2669690   2363  Why does Google prepend while(1); to their JSO...   \n",
       "\n",
       "                                                 TagTitle  freq_noun  \\\n",
       "16990   (Regular,ADJ) (expression,NOUN) (to,PRT) (matc...   0.272727   \n",
       "16991   (Regular,ADJ) (expression,NOUN) (to,PRT) (matc...   0.272727   \n",
       "22642   (Make,VERB) (an,DET) (existing,VERB) (Git,VERB...   0.300000   \n",
       "22643   (Make,VERB) (an,DET) (existing,VERB) (Git,VERB...   0.300000   \n",
       "22644   (Make,VERB) (an,DET) (existing,VERB) (Git,VERB...   0.300000   \n",
       "165834  (Why,ADV) (does,VERB) (Google,NOUN) (prepend,N...   0.500000   \n",
       "165835  (Why,ADV) (does,VERB) (Google,NOUN) (prepend,N...   0.500000   \n",
       "165836  (Why,ADV) (does,VERB) (Google,NOUN) (prepend,N...   0.500000   \n",
       "\n",
       "        freq_adj  freq_adv  freq_adp  freq_conj  freq_pron  freq_prt  \\\n",
       "16990   0.090909       0.0  0.090909        0.0        0.0  0.090909   \n",
       "16991   0.090909       0.0  0.090909        0.0        0.0  0.090909   \n",
       "22642   0.100000       0.0  0.000000        0.0        0.0  0.000000   \n",
       "22643   0.100000       0.0  0.000000        0.0        0.0  0.000000   \n",
       "22644   0.100000       0.0  0.000000        0.0        0.0  0.000000   \n",
       "165834  0.000000       0.1  0.000000        0.0        0.0  0.100000   \n",
       "165835  0.000000       0.1  0.000000        0.0        0.0  0.100000   \n",
       "165836  0.000000       0.1  0.000000        0.0        0.0  0.100000   \n",
       "\n",
       "        freq_pont  freq_det  freq_num  freq_x   n_score             Tag  \n",
       "16990    0.090909  0.090909       0.0     0.0  0.029119           regex  \n",
       "16991    0.090909  0.090909       0.0     0.0  0.029119  regex-negation  \n",
       "22642    0.100000  0.200000       0.0     0.0  0.030268             git  \n",
       "22643    0.100000  0.200000       0.0     0.0  0.030268          branch  \n",
       "22644    0.100000  0.200000       0.0     0.0  0.030268      git-branch  \n",
       "165834   0.100000  0.100000       0.0     0.0  0.029502      javascript  \n",
       "165835   0.100000  0.100000       0.0     0.0  0.029502            ajax  \n",
       "165836   0.100000  0.100000       0.0     0.0  0.029502            json  "
      ]
     },
     "execution_count": 25,
     "metadata": {},
     "output_type": "execute_result"
    }
   ],
   "source": [
    "df_u.loc[(df_u.Score>2000)]"
   ]
  },
  {
   "cell_type": "markdown",
   "metadata": {},
   "source": [
    "### NaiveBayes"
   ]
  },
  {
   "cell_type": "code",
   "execution_count": 26,
   "metadata": {},
   "outputs": [
    {
     "data": {
      "text/html": [
       "<div>\n",
       "<style scoped>\n",
       "    .dataframe tbody tr th:only-of-type {\n",
       "        vertical-align: middle;\n",
       "    }\n",
       "\n",
       "    .dataframe tbody tr th {\n",
       "        vertical-align: top;\n",
       "    }\n",
       "\n",
       "    .dataframe thead th {\n",
       "        text-align: right;\n",
       "    }\n",
       "</style>\n",
       "<table border=\"1\" class=\"dataframe\">\n",
       "  <thead>\n",
       "    <tr style=\"text-align: right;\">\n",
       "      <th></th>\n",
       "      <th>Id</th>\n",
       "      <th>Score</th>\n",
       "      <th>Title</th>\n",
       "      <th>freq_noun</th>\n",
       "      <th>freq_adj</th>\n",
       "      <th>freq_adv</th>\n",
       "      <th>freq_adp</th>\n",
       "      <th>freq_conj</th>\n",
       "      <th>freq_pron</th>\n",
       "      <th>freq_prt</th>\n",
       "      <th>freq_pont</th>\n",
       "      <th>freq_det</th>\n",
       "      <th>freq_num</th>\n",
       "      <th>freq_x</th>\n",
       "      <th>n_score</th>\n",
       "      <th>Tag</th>\n",
       "    </tr>\n",
       "  </thead>\n",
       "  <tbody>\n",
       "    <tr>\n",
       "      <th>0</th>\n",
       "      <td>80</td>\n",
       "      <td>26</td>\n",
       "      <td>SQLStatement .execute() - multiple queries in ...</td>\n",
       "      <td>0.50</td>\n",
       "      <td>0.125</td>\n",
       "      <td>0.0</td>\n",
       "      <td>0.250</td>\n",
       "      <td>0.000</td>\n",
       "      <td>0.0</td>\n",
       "      <td>0.0</td>\n",
       "      <td>0.000</td>\n",
       "      <td>0.0</td>\n",
       "      <td>0.125</td>\n",
       "      <td>0.0</td>\n",
       "      <td>0.037931</td>\n",
       "      <td>flex</td>\n",
       "    </tr>\n",
       "    <tr>\n",
       "      <th>1</th>\n",
       "      <td>80</td>\n",
       "      <td>26</td>\n",
       "      <td>SQLStatement .execute() - multiple queries in ...</td>\n",
       "      <td>0.50</td>\n",
       "      <td>0.125</td>\n",
       "      <td>0.0</td>\n",
       "      <td>0.250</td>\n",
       "      <td>0.000</td>\n",
       "      <td>0.0</td>\n",
       "      <td>0.0</td>\n",
       "      <td>0.000</td>\n",
       "      <td>0.0</td>\n",
       "      <td>0.125</td>\n",
       "      <td>0.0</td>\n",
       "      <td>0.037931</td>\n",
       "      <td>actionscript-3</td>\n",
       "    </tr>\n",
       "    <tr>\n",
       "      <th>2</th>\n",
       "      <td>80</td>\n",
       "      <td>26</td>\n",
       "      <td>SQLStatement .execute() - multiple queries in ...</td>\n",
       "      <td>0.50</td>\n",
       "      <td>0.125</td>\n",
       "      <td>0.0</td>\n",
       "      <td>0.250</td>\n",
       "      <td>0.000</td>\n",
       "      <td>0.0</td>\n",
       "      <td>0.0</td>\n",
       "      <td>0.000</td>\n",
       "      <td>0.0</td>\n",
       "      <td>0.125</td>\n",
       "      <td>0.0</td>\n",
       "      <td>0.037931</td>\n",
       "      <td>air</td>\n",
       "    </tr>\n",
       "    <tr>\n",
       "      <th>3</th>\n",
       "      <td>90</td>\n",
       "      <td>144</td>\n",
       "      <td>Good branching and merging tutorials for Torto...</td>\n",
       "      <td>0.25</td>\n",
       "      <td>0.125</td>\n",
       "      <td>0.0</td>\n",
       "      <td>0.125</td>\n",
       "      <td>0.125</td>\n",
       "      <td>0.0</td>\n",
       "      <td>0.0</td>\n",
       "      <td>0.125</td>\n",
       "      <td>0.0</td>\n",
       "      <td>0.000</td>\n",
       "      <td>0.0</td>\n",
       "      <td>0.083142</td>\n",
       "      <td>svn</td>\n",
       "    </tr>\n",
       "    <tr>\n",
       "      <th>4</th>\n",
       "      <td>90</td>\n",
       "      <td>144</td>\n",
       "      <td>Good branching and merging tutorials for Torto...</td>\n",
       "      <td>0.25</td>\n",
       "      <td>0.125</td>\n",
       "      <td>0.0</td>\n",
       "      <td>0.125</td>\n",
       "      <td>0.125</td>\n",
       "      <td>0.0</td>\n",
       "      <td>0.0</td>\n",
       "      <td>0.125</td>\n",
       "      <td>0.0</td>\n",
       "      <td>0.000</td>\n",
       "      <td>0.0</td>\n",
       "      <td>0.083142</td>\n",
       "      <td>tortoisesvn</td>\n",
       "    </tr>\n",
       "  </tbody>\n",
       "</table>\n",
       "</div>"
      ],
      "text/plain": [
       "   Id  Score                                              Title  freq_noun  \\\n",
       "0  80     26  SQLStatement .execute() - multiple queries in ...       0.50   \n",
       "1  80     26  SQLStatement .execute() - multiple queries in ...       0.50   \n",
       "2  80     26  SQLStatement .execute() - multiple queries in ...       0.50   \n",
       "3  90    144  Good branching and merging tutorials for Torto...       0.25   \n",
       "4  90    144  Good branching and merging tutorials for Torto...       0.25   \n",
       "\n",
       "   freq_adj  freq_adv  freq_adp  freq_conj  freq_pron  freq_prt  freq_pont  \\\n",
       "0     0.125       0.0     0.250      0.000        0.0       0.0      0.000   \n",
       "1     0.125       0.0     0.250      0.000        0.0       0.0      0.000   \n",
       "2     0.125       0.0     0.250      0.000        0.0       0.0      0.000   \n",
       "3     0.125       0.0     0.125      0.125        0.0       0.0      0.125   \n",
       "4     0.125       0.0     0.125      0.125        0.0       0.0      0.125   \n",
       "\n",
       "   freq_det  freq_num  freq_x   n_score             Tag  \n",
       "0       0.0     0.125     0.0  0.037931            flex  \n",
       "1       0.0     0.125     0.0  0.037931  actionscript-3  \n",
       "2       0.0     0.125     0.0  0.037931             air  \n",
       "3       0.0     0.000     0.0  0.083142             svn  \n",
       "4       0.0     0.000     0.0  0.083142     tortoisesvn  "
      ]
     },
     "execution_count": 26,
     "metadata": {},
     "output_type": "execute_result"
    }
   ],
   "source": [
    "if('TagTitle' in df_u.columns):\n",
    "    del df_u['TagTitle']\n",
    "df_u.head()"
   ]
  },
  {
   "cell_type": "code",
   "execution_count": 27,
   "metadata": {},
   "outputs": [
    {
     "data": {
      "text/plain": [
       "(3750986, 16)"
      ]
     },
     "execution_count": 27,
     "metadata": {},
     "output_type": "execute_result"
    }
   ],
   "source": [
    "df_u.shape"
   ]
  },
  {
   "cell_type": "code",
   "execution_count": 28,
   "metadata": {},
   "outputs": [
    {
     "name": "stdout",
     "output_type": "stream",
     "text": [
      "['javascript', 'java', 'c#', 'php', 'android', 'jquery', 'python', 'html', '.net', 'c++', 'ios', 'mysql', 'css', 'sql', 'objective-c', 'ruby-on-rails', 'c', 'iphone', 'angularjs', 'arrays']\n"
     ]
    }
   ],
   "source": [
    "new_df = df_u.groupby('Tag').count().reset_index().sort_values('Id',ascending=False)\n",
    "categories = new_df.head(20)['Tag'].tolist()\n",
    "print(categories)"
   ]
  },
  {
   "cell_type": "code",
   "execution_count": 29,
   "metadata": {},
   "outputs": [],
   "source": [
    "df_u['fake-index'] = df_u.index\n",
    "dropables = []\n",
    "for item in df_u.values:\n",
    "    #print(item[16])\n",
    "    if(item[15] not in categories):\n",
    "        dropables.append(item[16])\n",
    "del df_u['fake-index']"
   ]
  },
  {
   "cell_type": "code",
   "execution_count": 30,
   "metadata": {},
   "outputs": [],
   "source": [
    "df_u = df_u.drop(dropables)"
   ]
  },
  {
   "cell_type": "code",
   "execution_count": 31,
   "metadata": {},
   "outputs": [],
   "source": [
    "df_u.loc[df_u.Score>10]\n",
    "backup = df_u.copy()\n",
    "df_u = df_u.loc[df_u.Score>10]"
   ]
  },
  {
   "cell_type": "code",
   "execution_count": 32,
   "metadata": {},
   "outputs": [
    {
     "data": {
      "text/plain": [
       "(27465, 3)"
      ]
     },
     "execution_count": 32,
     "metadata": {},
     "output_type": "execute_result"
    }
   ],
   "source": [
    "df_clean = df_u[['Id','Title','Tag']]\n",
    "df_clean.shape"
   ]
  },
  {
   "cell_type": "code",
   "execution_count": 33,
   "metadata": {},
   "outputs": [
    {
     "data": {
      "text/html": [
       "<div>\n",
       "<style scoped>\n",
       "    .dataframe tbody tr th:only-of-type {\n",
       "        vertical-align: middle;\n",
       "    }\n",
       "\n",
       "    .dataframe tbody tr th {\n",
       "        vertical-align: top;\n",
       "    }\n",
       "\n",
       "    .dataframe thead th {\n",
       "        text-align: right;\n",
       "    }\n",
       "</style>\n",
       "<table border=\"1\" class=\"dataframe\">\n",
       "  <thead>\n",
       "    <tr style=\"text-align: right;\">\n",
       "      <th></th>\n",
       "      <th>Id</th>\n",
       "      <th>Score</th>\n",
       "      <th>Title</th>\n",
       "      <th>freq_noun</th>\n",
       "      <th>freq_adj</th>\n",
       "      <th>freq_adv</th>\n",
       "      <th>freq_adp</th>\n",
       "      <th>freq_conj</th>\n",
       "      <th>freq_pron</th>\n",
       "      <th>freq_prt</th>\n",
       "      <th>freq_pont</th>\n",
       "      <th>freq_det</th>\n",
       "      <th>freq_num</th>\n",
       "      <th>freq_x</th>\n",
       "      <th>n_score</th>\n",
       "      <th>Tag</th>\n",
       "    </tr>\n",
       "  </thead>\n",
       "  <tbody>\n",
       "    <tr>\n",
       "      <th>7</th>\n",
       "      <td>120</td>\n",
       "      <td>21</td>\n",
       "      <td>ASP .NET Site Maps</td>\n",
       "      <td>1.000000</td>\n",
       "      <td>0.0</td>\n",
       "      <td>0.0</td>\n",
       "      <td>0.000000</td>\n",
       "      <td>0.0</td>\n",
       "      <td>0.000000</td>\n",
       "      <td>0.000000</td>\n",
       "      <td>0.000000</td>\n",
       "      <td>0.000000</td>\n",
       "      <td>0.0</td>\n",
       "      <td>0.0</td>\n",
       "      <td>0.036015</td>\n",
       "      <td>sql</td>\n",
       "    </tr>\n",
       "    <tr>\n",
       "      <th>8</th>\n",
       "      <td>120</td>\n",
       "      <td>21</td>\n",
       "      <td>ASP .NET Site Maps</td>\n",
       "      <td>1.000000</td>\n",
       "      <td>0.0</td>\n",
       "      <td>0.0</td>\n",
       "      <td>0.000000</td>\n",
       "      <td>0.0</td>\n",
       "      <td>0.000000</td>\n",
       "      <td>0.000000</td>\n",
       "      <td>0.000000</td>\n",
       "      <td>0.000000</td>\n",
       "      <td>0.0</td>\n",
       "      <td>0.0</td>\n",
       "      <td>0.036015</td>\n",
       "      <td>.net</td>\n",
       "    </tr>\n",
       "    <tr>\n",
       "      <th>14</th>\n",
       "      <td>260</td>\n",
       "      <td>49</td>\n",
       "      <td>Adding scripting functionality to  .NET applic...</td>\n",
       "      <td>0.857143</td>\n",
       "      <td>0.0</td>\n",
       "      <td>0.0</td>\n",
       "      <td>0.000000</td>\n",
       "      <td>0.0</td>\n",
       "      <td>0.000000</td>\n",
       "      <td>0.142857</td>\n",
       "      <td>0.000000</td>\n",
       "      <td>0.000000</td>\n",
       "      <td>0.0</td>\n",
       "      <td>0.0</td>\n",
       "      <td>0.046743</td>\n",
       "      <td>c#</td>\n",
       "    </tr>\n",
       "    <tr>\n",
       "      <th>15</th>\n",
       "      <td>260</td>\n",
       "      <td>49</td>\n",
       "      <td>Adding scripting functionality to  .NET applic...</td>\n",
       "      <td>0.857143</td>\n",
       "      <td>0.0</td>\n",
       "      <td>0.0</td>\n",
       "      <td>0.000000</td>\n",
       "      <td>0.0</td>\n",
       "      <td>0.000000</td>\n",
       "      <td>0.142857</td>\n",
       "      <td>0.000000</td>\n",
       "      <td>0.000000</td>\n",
       "      <td>0.0</td>\n",
       "      <td>0.0</td>\n",
       "      <td>0.046743</td>\n",
       "      <td>.net</td>\n",
       "    </tr>\n",
       "    <tr>\n",
       "      <th>18</th>\n",
       "      <td>330</td>\n",
       "      <td>29</td>\n",
       "      <td>Should I use nested classes in this case ?</td>\n",
       "      <td>0.333333</td>\n",
       "      <td>0.0</td>\n",
       "      <td>0.0</td>\n",
       "      <td>0.111111</td>\n",
       "      <td>0.0</td>\n",
       "      <td>0.111111</td>\n",
       "      <td>0.000000</td>\n",
       "      <td>0.111111</td>\n",
       "      <td>0.111111</td>\n",
       "      <td>0.0</td>\n",
       "      <td>0.0</td>\n",
       "      <td>0.039080</td>\n",
       "      <td>c++</td>\n",
       "    </tr>\n",
       "  </tbody>\n",
       "</table>\n",
       "</div>"
      ],
      "text/plain": [
       "     Id  Score                                              Title  freq_noun  \\\n",
       "7   120     21                                 ASP .NET Site Maps   1.000000   \n",
       "8   120     21                                 ASP .NET Site Maps   1.000000   \n",
       "14  260     49  Adding scripting functionality to  .NET applic...   0.857143   \n",
       "15  260     49  Adding scripting functionality to  .NET applic...   0.857143   \n",
       "18  330     29         Should I use nested classes in this case ?   0.333333   \n",
       "\n",
       "    freq_adj  freq_adv  freq_adp  freq_conj  freq_pron  freq_prt  freq_pont  \\\n",
       "7        0.0       0.0  0.000000        0.0   0.000000  0.000000   0.000000   \n",
       "8        0.0       0.0  0.000000        0.0   0.000000  0.000000   0.000000   \n",
       "14       0.0       0.0  0.000000        0.0   0.000000  0.142857   0.000000   \n",
       "15       0.0       0.0  0.000000        0.0   0.000000  0.142857   0.000000   \n",
       "18       0.0       0.0  0.111111        0.0   0.111111  0.000000   0.111111   \n",
       "\n",
       "    freq_det  freq_num  freq_x   n_score   Tag  \n",
       "7   0.000000       0.0     0.0  0.036015   sql  \n",
       "8   0.000000       0.0     0.0  0.036015  .net  \n",
       "14  0.000000       0.0     0.0  0.046743    c#  \n",
       "15  0.000000       0.0     0.0  0.046743  .net  \n",
       "18  0.111111       0.0     0.0  0.039080   c++  "
      ]
     },
     "execution_count": 33,
     "metadata": {},
     "output_type": "execute_result"
    }
   ],
   "source": [
    "backup.head()"
   ]
  },
  {
   "cell_type": "code",
   "execution_count": 34,
   "metadata": {},
   "outputs": [
    {
     "data": {
      "text/html": [
       "<div>\n",
       "<style scoped>\n",
       "    .dataframe tbody tr th:only-of-type {\n",
       "        vertical-align: middle;\n",
       "    }\n",
       "\n",
       "    .dataframe tbody tr th {\n",
       "        vertical-align: top;\n",
       "    }\n",
       "\n",
       "    .dataframe thead th {\n",
       "        text-align: right;\n",
       "    }\n",
       "</style>\n",
       "<table border=\"1\" class=\"dataframe\">\n",
       "  <thead>\n",
       "    <tr style=\"text-align: right;\">\n",
       "      <th></th>\n",
       "      <th>Id</th>\n",
       "      <th>Tag</th>\n",
       "    </tr>\n",
       "  </thead>\n",
       "  <tbody>\n",
       "    <tr>\n",
       "      <th>0</th>\n",
       "      <td>120</td>\n",
       "      <td>sql~~.net~~</td>\n",
       "    </tr>\n",
       "    <tr>\n",
       "      <th>1</th>\n",
       "      <td>260</td>\n",
       "      <td>c#~~.net~~</td>\n",
       "    </tr>\n",
       "    <tr>\n",
       "      <th>2</th>\n",
       "      <td>330</td>\n",
       "      <td>c++~~</td>\n",
       "    </tr>\n",
       "    <tr>\n",
       "      <th>3</th>\n",
       "      <td>470</td>\n",
       "      <td>.net~~</td>\n",
       "    </tr>\n",
       "    <tr>\n",
       "      <th>4</th>\n",
       "      <td>650</td>\n",
       "      <td>c#~~</td>\n",
       "    </tr>\n",
       "    <tr>\n",
       "      <th>5</th>\n",
       "      <td>930</td>\n",
       "      <td>c#~~</td>\n",
       "    </tr>\n",
       "    <tr>\n",
       "      <th>6</th>\n",
       "      <td>1010</td>\n",
       "      <td>c#~~.net~~</td>\n",
       "    </tr>\n",
       "    <tr>\n",
       "      <th>7</th>\n",
       "      <td>1040</td>\n",
       "      <td>c#~~</td>\n",
       "    </tr>\n",
       "    <tr>\n",
       "      <th>8</th>\n",
       "      <td>1300</td>\n",
       "      <td>.net~~</td>\n",
       "    </tr>\n",
       "    <tr>\n",
       "      <th>9</th>\n",
       "      <td>1760</td>\n",
       "      <td>c#~~.net~~</td>\n",
       "    </tr>\n",
       "  </tbody>\n",
       "</table>\n",
       "</div>"
      ],
      "text/plain": [
       "     Id          Tag\n",
       "0   120  sql~~.net~~\n",
       "1   260   c#~~.net~~\n",
       "2   330        c++~~\n",
       "3   470       .net~~\n",
       "4   650         c#~~\n",
       "5   930         c#~~\n",
       "6  1010   c#~~.net~~\n",
       "7  1040         c#~~\n",
       "8  1300       .net~~\n",
       "9  1760   c#~~.net~~"
      ]
     },
     "execution_count": 34,
     "metadata": {},
     "output_type": "execute_result"
    }
   ],
   "source": [
    "df_n = df_clean.groupby('Id')['Tag'].apply(lambda x: '~~'.join(x))\n",
    "df_n = pd.DataFrame(df_n.reset_index())\n",
    "df_n.Tag = df_n.Tag.apply(lambda x: x+'~~')\n",
    "df_n.head(10)"
   ]
  },
  {
   "cell_type": "code",
   "execution_count": 35,
   "metadata": {},
   "outputs": [],
   "source": [
    "def possuiTag(tag,Ids):\n",
    "    l = []\n",
    "    for Id in Ids:\n",
    "        d = df_n.loc[df_n.Id==Id]\n",
    "        if(tag+'~~' in d['Tag'].tolist()[0]):\n",
    "            l.append(1)\n",
    "        else:\n",
    "            l.append(0)\n",
    "    return l"
   ]
  },
  {
   "cell_type": "code",
   "execution_count": 36,
   "metadata": {},
   "outputs": [
    {
     "data": {
      "text/html": [
       "<div>\n",
       "<style scoped>\n",
       "    .dataframe tbody tr th:only-of-type {\n",
       "        vertical-align: middle;\n",
       "    }\n",
       "\n",
       "    .dataframe tbody tr th {\n",
       "        vertical-align: top;\n",
       "    }\n",
       "\n",
       "    .dataframe thead th {\n",
       "        text-align: right;\n",
       "    }\n",
       "</style>\n",
       "<table border=\"1\" class=\"dataframe\">\n",
       "  <thead>\n",
       "    <tr style=\"text-align: right;\">\n",
       "      <th></th>\n",
       "      <th>Id</th>\n",
       "      <th>Title</th>\n",
       "      <th>Tag</th>\n",
       "    </tr>\n",
       "  </thead>\n",
       "  <tbody>\n",
       "    <tr>\n",
       "      <th>7</th>\n",
       "      <td>120</td>\n",
       "      <td>ASP .NET Site Maps</td>\n",
       "      <td>sql</td>\n",
       "    </tr>\n",
       "    <tr>\n",
       "      <th>8</th>\n",
       "      <td>120</td>\n",
       "      <td>ASP .NET Site Maps</td>\n",
       "      <td>.net</td>\n",
       "    </tr>\n",
       "    <tr>\n",
       "      <th>14</th>\n",
       "      <td>260</td>\n",
       "      <td>Adding scripting functionality to  .NET applic...</td>\n",
       "      <td>c#</td>\n",
       "    </tr>\n",
       "    <tr>\n",
       "      <th>15</th>\n",
       "      <td>260</td>\n",
       "      <td>Adding scripting functionality to  .NET applic...</td>\n",
       "      <td>.net</td>\n",
       "    </tr>\n",
       "    <tr>\n",
       "      <th>18</th>\n",
       "      <td>330</td>\n",
       "      <td>Should I use nested classes in this case ?</td>\n",
       "      <td>c++</td>\n",
       "    </tr>\n",
       "  </tbody>\n",
       "</table>\n",
       "</div>"
      ],
      "text/plain": [
       "     Id                                              Title   Tag\n",
       "7   120                                 ASP .NET Site Maps   sql\n",
       "8   120                                 ASP .NET Site Maps  .net\n",
       "14  260  Adding scripting functionality to  .NET applic...    c#\n",
       "15  260  Adding scripting functionality to  .NET applic...  .net\n",
       "18  330         Should I use nested classes in this case ?   c++"
      ]
     },
     "execution_count": 36,
     "metadata": {},
     "output_type": "execute_result"
    }
   ],
   "source": [
    "df_clean.head()"
   ]
  },
  {
   "cell_type": "code",
   "execution_count": 37,
   "metadata": {},
   "outputs": [
    {
     "name": "stderr",
     "output_type": "stream",
     "text": [
      "C:\\Anaconda3\\lib\\site-packages\\ipykernel_launcher.py:2: SettingWithCopyWarning: \n",
      "A value is trying to be set on a copy of a slice from a DataFrame.\n",
      "Try using .loc[row_indexer,col_indexer] = value instead\n",
      "\n",
      "See the caveats in the documentation: http://pandas.pydata.org/pandas-docs/stable/indexing.html#indexing-view-versus-copy\n",
      "  \n"
     ]
    }
   ],
   "source": [
    "for c in categories:\n",
    "    df_clean[c] = possuiTag(c,df_clean['Id'].tolist())"
   ]
  },
  {
   "cell_type": "code",
   "execution_count": 38,
   "metadata": {},
   "outputs": [
    {
     "data": {
      "text/html": [
       "<div>\n",
       "<style scoped>\n",
       "    .dataframe tbody tr th:only-of-type {\n",
       "        vertical-align: middle;\n",
       "    }\n",
       "\n",
       "    .dataframe tbody tr th {\n",
       "        vertical-align: top;\n",
       "    }\n",
       "\n",
       "    .dataframe thead th {\n",
       "        text-align: right;\n",
       "    }\n",
       "</style>\n",
       "<table border=\"1\" class=\"dataframe\">\n",
       "  <thead>\n",
       "    <tr style=\"text-align: right;\">\n",
       "      <th></th>\n",
       "      <th>Id</th>\n",
       "      <th>Title</th>\n",
       "      <th>Tag</th>\n",
       "      <th>javascript</th>\n",
       "      <th>java</th>\n",
       "      <th>c#</th>\n",
       "      <th>php</th>\n",
       "      <th>android</th>\n",
       "      <th>jquery</th>\n",
       "      <th>python</th>\n",
       "      <th>...</th>\n",
       "      <th>ios</th>\n",
       "      <th>mysql</th>\n",
       "      <th>css</th>\n",
       "      <th>sql</th>\n",
       "      <th>objective-c</th>\n",
       "      <th>ruby-on-rails</th>\n",
       "      <th>c</th>\n",
       "      <th>iphone</th>\n",
       "      <th>angularjs</th>\n",
       "      <th>arrays</th>\n",
       "    </tr>\n",
       "  </thead>\n",
       "  <tbody>\n",
       "    <tr>\n",
       "      <th>7</th>\n",
       "      <td>120</td>\n",
       "      <td>ASP .NET Site Maps</td>\n",
       "      <td>sql</td>\n",
       "      <td>0</td>\n",
       "      <td>0</td>\n",
       "      <td>0</td>\n",
       "      <td>0</td>\n",
       "      <td>0</td>\n",
       "      <td>0</td>\n",
       "      <td>0</td>\n",
       "      <td>...</td>\n",
       "      <td>0</td>\n",
       "      <td>0</td>\n",
       "      <td>0</td>\n",
       "      <td>1</td>\n",
       "      <td>0</td>\n",
       "      <td>0</td>\n",
       "      <td>0</td>\n",
       "      <td>0</td>\n",
       "      <td>0</td>\n",
       "      <td>0</td>\n",
       "    </tr>\n",
       "    <tr>\n",
       "      <th>8</th>\n",
       "      <td>120</td>\n",
       "      <td>ASP .NET Site Maps</td>\n",
       "      <td>.net</td>\n",
       "      <td>0</td>\n",
       "      <td>0</td>\n",
       "      <td>0</td>\n",
       "      <td>0</td>\n",
       "      <td>0</td>\n",
       "      <td>0</td>\n",
       "      <td>0</td>\n",
       "      <td>...</td>\n",
       "      <td>0</td>\n",
       "      <td>0</td>\n",
       "      <td>0</td>\n",
       "      <td>1</td>\n",
       "      <td>0</td>\n",
       "      <td>0</td>\n",
       "      <td>0</td>\n",
       "      <td>0</td>\n",
       "      <td>0</td>\n",
       "      <td>0</td>\n",
       "    </tr>\n",
       "  </tbody>\n",
       "</table>\n",
       "<p>2 rows × 23 columns</p>\n",
       "</div>"
      ],
      "text/plain": [
       "    Id               Title   Tag  javascript  java  c#  php  android  jquery  \\\n",
       "7  120  ASP .NET Site Maps   sql           0     0   0    0        0       0   \n",
       "8  120  ASP .NET Site Maps  .net           0     0   0    0        0       0   \n",
       "\n",
       "   python  ...  ios  mysql  css  sql  objective-c  ruby-on-rails  c  iphone  \\\n",
       "7       0  ...    0      0    0    1            0              0  0       0   \n",
       "8       0  ...    0      0    0    1            0              0  0       0   \n",
       "\n",
       "   angularjs  arrays  \n",
       "7          0       0  \n",
       "8          0       0  \n",
       "\n",
       "[2 rows x 23 columns]"
      ]
     },
     "execution_count": 38,
     "metadata": {},
     "output_type": "execute_result"
    }
   ],
   "source": [
    "df_clean.head(2)"
   ]
  },
  {
   "cell_type": "code",
   "execution_count": 39,
   "metadata": {},
   "outputs": [],
   "source": [
    "del df_clean['Tag']"
   ]
  },
  {
   "cell_type": "code",
   "execution_count": 40,
   "metadata": {},
   "outputs": [],
   "source": [
    "df_clean = df_clean.groupby('Id').max().reset_index()\n",
    "df_clean = df_clean.drop_duplicates()"
   ]
  },
  {
   "cell_type": "code",
   "execution_count": 41,
   "metadata": {},
   "outputs": [
    {
     "name": "stdout",
     "output_type": "stream",
     "text": [
      "(22116, 22)\n"
     ]
    },
    {
     "data": {
      "text/html": [
       "<div>\n",
       "<style scoped>\n",
       "    .dataframe tbody tr th:only-of-type {\n",
       "        vertical-align: middle;\n",
       "    }\n",
       "\n",
       "    .dataframe tbody tr th {\n",
       "        vertical-align: top;\n",
       "    }\n",
       "\n",
       "    .dataframe thead th {\n",
       "        text-align: right;\n",
       "    }\n",
       "</style>\n",
       "<table border=\"1\" class=\"dataframe\">\n",
       "  <thead>\n",
       "    <tr style=\"text-align: right;\">\n",
       "      <th></th>\n",
       "      <th>Id</th>\n",
       "      <th>Title</th>\n",
       "      <th>javascript</th>\n",
       "      <th>java</th>\n",
       "      <th>c#</th>\n",
       "      <th>php</th>\n",
       "      <th>android</th>\n",
       "      <th>jquery</th>\n",
       "      <th>python</th>\n",
       "      <th>html</th>\n",
       "      <th>...</th>\n",
       "      <th>ios</th>\n",
       "      <th>mysql</th>\n",
       "      <th>css</th>\n",
       "      <th>sql</th>\n",
       "      <th>objective-c</th>\n",
       "      <th>ruby-on-rails</th>\n",
       "      <th>c</th>\n",
       "      <th>iphone</th>\n",
       "      <th>angularjs</th>\n",
       "      <th>arrays</th>\n",
       "    </tr>\n",
       "  </thead>\n",
       "  <tbody>\n",
       "    <tr>\n",
       "      <th>0</th>\n",
       "      <td>120</td>\n",
       "      <td>ASP .NET Site Maps</td>\n",
       "      <td>0</td>\n",
       "      <td>0</td>\n",
       "      <td>0</td>\n",
       "      <td>0</td>\n",
       "      <td>0</td>\n",
       "      <td>0</td>\n",
       "      <td>0</td>\n",
       "      <td>0</td>\n",
       "      <td>...</td>\n",
       "      <td>0</td>\n",
       "      <td>0</td>\n",
       "      <td>0</td>\n",
       "      <td>1</td>\n",
       "      <td>0</td>\n",
       "      <td>0</td>\n",
       "      <td>0</td>\n",
       "      <td>0</td>\n",
       "      <td>0</td>\n",
       "      <td>0</td>\n",
       "    </tr>\n",
       "    <tr>\n",
       "      <th>1</th>\n",
       "      <td>260</td>\n",
       "      <td>Adding scripting functionality to  .NET applic...</td>\n",
       "      <td>0</td>\n",
       "      <td>0</td>\n",
       "      <td>1</td>\n",
       "      <td>0</td>\n",
       "      <td>0</td>\n",
       "      <td>0</td>\n",
       "      <td>0</td>\n",
       "      <td>0</td>\n",
       "      <td>...</td>\n",
       "      <td>0</td>\n",
       "      <td>0</td>\n",
       "      <td>0</td>\n",
       "      <td>0</td>\n",
       "      <td>0</td>\n",
       "      <td>0</td>\n",
       "      <td>0</td>\n",
       "      <td>0</td>\n",
       "      <td>0</td>\n",
       "      <td>0</td>\n",
       "    </tr>\n",
       "    <tr>\n",
       "      <th>2</th>\n",
       "      <td>330</td>\n",
       "      <td>Should I use nested classes in this case ?</td>\n",
       "      <td>0</td>\n",
       "      <td>0</td>\n",
       "      <td>0</td>\n",
       "      <td>0</td>\n",
       "      <td>0</td>\n",
       "      <td>0</td>\n",
       "      <td>0</td>\n",
       "      <td>0</td>\n",
       "      <td>...</td>\n",
       "      <td>0</td>\n",
       "      <td>0</td>\n",
       "      <td>0</td>\n",
       "      <td>0</td>\n",
       "      <td>0</td>\n",
       "      <td>0</td>\n",
       "      <td>0</td>\n",
       "      <td>0</td>\n",
       "      <td>0</td>\n",
       "      <td>0</td>\n",
       "    </tr>\n",
       "    <tr>\n",
       "      <th>3</th>\n",
       "      <td>470</td>\n",
       "      <td>Homegrown consumption of web services</td>\n",
       "      <td>0</td>\n",
       "      <td>0</td>\n",
       "      <td>0</td>\n",
       "      <td>0</td>\n",
       "      <td>0</td>\n",
       "      <td>0</td>\n",
       "      <td>0</td>\n",
       "      <td>0</td>\n",
       "      <td>...</td>\n",
       "      <td>0</td>\n",
       "      <td>0</td>\n",
       "      <td>0</td>\n",
       "      <td>0</td>\n",
       "      <td>0</td>\n",
       "      <td>0</td>\n",
       "      <td>0</td>\n",
       "      <td>0</td>\n",
       "      <td>0</td>\n",
       "      <td>0</td>\n",
       "    </tr>\n",
       "    <tr>\n",
       "      <th>4</th>\n",
       "      <td>650</td>\n",
       "      <td>Automatically update version number</td>\n",
       "      <td>0</td>\n",
       "      <td>0</td>\n",
       "      <td>1</td>\n",
       "      <td>0</td>\n",
       "      <td>0</td>\n",
       "      <td>0</td>\n",
       "      <td>0</td>\n",
       "      <td>0</td>\n",
       "      <td>...</td>\n",
       "      <td>0</td>\n",
       "      <td>0</td>\n",
       "      <td>0</td>\n",
       "      <td>0</td>\n",
       "      <td>0</td>\n",
       "      <td>0</td>\n",
       "      <td>0</td>\n",
       "      <td>0</td>\n",
       "      <td>0</td>\n",
       "      <td>0</td>\n",
       "    </tr>\n",
       "  </tbody>\n",
       "</table>\n",
       "<p>5 rows × 22 columns</p>\n",
       "</div>"
      ],
      "text/plain": [
       "    Id                                              Title  javascript  java  \\\n",
       "0  120                                 ASP .NET Site Maps           0     0   \n",
       "1  260  Adding scripting functionality to  .NET applic...           0     0   \n",
       "2  330         Should I use nested classes in this case ?           0     0   \n",
       "3  470              Homegrown consumption of web services           0     0   \n",
       "4  650                Automatically update version number           0     0   \n",
       "\n",
       "   c#  php  android  jquery  python  html  ...  ios  mysql  css  sql  \\\n",
       "0   0    0        0       0       0     0  ...    0      0    0    1   \n",
       "1   1    0        0       0       0     0  ...    0      0    0    0   \n",
       "2   0    0        0       0       0     0  ...    0      0    0    0   \n",
       "3   0    0        0       0       0     0  ...    0      0    0    0   \n",
       "4   1    0        0       0       0     0  ...    0      0    0    0   \n",
       "\n",
       "   objective-c  ruby-on-rails  c  iphone  angularjs  arrays  \n",
       "0            0              0  0       0          0       0  \n",
       "1            0              0  0       0          0       0  \n",
       "2            0              0  0       0          0       0  \n",
       "3            0              0  0       0          0       0  \n",
       "4            0              0  0       0          0       0  \n",
       "\n",
       "[5 rows x 22 columns]"
      ]
     },
     "execution_count": 41,
     "metadata": {},
     "output_type": "execute_result"
    }
   ],
   "source": [
    "print(df_clean.shape)\n",
    "df_clean.head(5)"
   ]
  },
  {
   "cell_type": "code",
   "execution_count": 42,
   "metadata": {},
   "outputs": [],
   "source": [
    "stop_words = set(stopwords.words('english'))\n",
    "def getPipe():\n",
    "    NB_pipeline = Pipeline([\n",
    "                    ('tfidf', TfidfVectorizer(stop_words=stop_words)),\n",
    "                    ('clf', OneVsRestClassifier(MultinomialNB(\n",
    "                        fit_prior=True, class_prior=None,))),\n",
    "                ])\n",
    "    return(NB_pipeline)"
   ]
  },
  {
   "cell_type": "code",
   "execution_count": 43,
   "metadata": {},
   "outputs": [],
   "source": [
    "train, test = train_test_split(df_clean, random_state=42, test_size=0.33, shuffle=True)\n",
    "X_train = train.Title\n",
    "X_test = test.Title"
   ]
  },
  {
   "cell_type": "code",
   "execution_count": 44,
   "metadata": {},
   "outputs": [],
   "source": [
    "del df_clean['Id']"
   ]
  },
  {
   "cell_type": "code",
   "execution_count": 45,
   "metadata": {},
   "outputs": [
    {
     "data": {
      "text/plain": [
       "(14817,)"
      ]
     },
     "execution_count": 45,
     "metadata": {},
     "output_type": "execute_result"
    }
   ],
   "source": [
    "X_train.shape"
   ]
  },
  {
   "cell_type": "code",
   "execution_count": 46,
   "metadata": {},
   "outputs": [
    {
     "data": {
      "text/html": [
       "<div>\n",
       "<style scoped>\n",
       "    .dataframe tbody tr th:only-of-type {\n",
       "        vertical-align: middle;\n",
       "    }\n",
       "\n",
       "    .dataframe tbody tr th {\n",
       "        vertical-align: top;\n",
       "    }\n",
       "\n",
       "    .dataframe thead th {\n",
       "        text-align: right;\n",
       "    }\n",
       "</style>\n",
       "<table border=\"1\" class=\"dataframe\">\n",
       "  <thead>\n",
       "    <tr style=\"text-align: right;\">\n",
       "      <th></th>\n",
       "      <th>Title</th>\n",
       "      <th>javascript</th>\n",
       "      <th>c#</th>\n",
       "      <th>php</th>\n",
       "      <th>android</th>\n",
       "      <th>jquery</th>\n",
       "      <th>python</th>\n",
       "      <th>html</th>\n",
       "      <th>.net</th>\n",
       "      <th>c++</th>\n",
       "      <th>ios</th>\n",
       "      <th>mysql</th>\n",
       "      <th>css</th>\n",
       "      <th>sql</th>\n",
       "      <th>objective-c</th>\n",
       "      <th>ruby-on-rails</th>\n",
       "      <th>c</th>\n",
       "      <th>iphone</th>\n",
       "      <th>angularjs</th>\n",
       "      <th>arrays</th>\n",
       "    </tr>\n",
       "    <tr>\n",
       "      <th>java</th>\n",
       "      <th></th>\n",
       "      <th></th>\n",
       "      <th></th>\n",
       "      <th></th>\n",
       "      <th></th>\n",
       "      <th></th>\n",
       "      <th></th>\n",
       "      <th></th>\n",
       "      <th></th>\n",
       "      <th></th>\n",
       "      <th></th>\n",
       "      <th></th>\n",
       "      <th></th>\n",
       "      <th></th>\n",
       "      <th></th>\n",
       "      <th></th>\n",
       "      <th></th>\n",
       "      <th></th>\n",
       "      <th></th>\n",
       "      <th></th>\n",
       "    </tr>\n",
       "  </thead>\n",
       "  <tbody>\n",
       "    <tr>\n",
       "      <th>0</th>\n",
       "      <td>19065</td>\n",
       "      <td>19065</td>\n",
       "      <td>19065</td>\n",
       "      <td>19065</td>\n",
       "      <td>19065</td>\n",
       "      <td>19065</td>\n",
       "      <td>19065</td>\n",
       "      <td>19065</td>\n",
       "      <td>19065</td>\n",
       "      <td>19065</td>\n",
       "      <td>19065</td>\n",
       "      <td>19065</td>\n",
       "      <td>19065</td>\n",
       "      <td>19065</td>\n",
       "      <td>19065</td>\n",
       "      <td>19065</td>\n",
       "      <td>19065</td>\n",
       "      <td>19065</td>\n",
       "      <td>19065</td>\n",
       "      <td>19065</td>\n",
       "    </tr>\n",
       "    <tr>\n",
       "      <th>1</th>\n",
       "      <td>3051</td>\n",
       "      <td>3051</td>\n",
       "      <td>3051</td>\n",
       "      <td>3051</td>\n",
       "      <td>3051</td>\n",
       "      <td>3051</td>\n",
       "      <td>3051</td>\n",
       "      <td>3051</td>\n",
       "      <td>3051</td>\n",
       "      <td>3051</td>\n",
       "      <td>3051</td>\n",
       "      <td>3051</td>\n",
       "      <td>3051</td>\n",
       "      <td>3051</td>\n",
       "      <td>3051</td>\n",
       "      <td>3051</td>\n",
       "      <td>3051</td>\n",
       "      <td>3051</td>\n",
       "      <td>3051</td>\n",
       "      <td>3051</td>\n",
       "    </tr>\n",
       "  </tbody>\n",
       "</table>\n",
       "</div>"
      ],
      "text/plain": [
       "      Title  javascript     c#    php  android  jquery  python   html   .net  \\\n",
       "java                                                                           \n",
       "0     19065       19065  19065  19065    19065   19065   19065  19065  19065   \n",
       "1      3051        3051   3051   3051     3051    3051    3051   3051   3051   \n",
       "\n",
       "        c++    ios  mysql    css    sql  objective-c  ruby-on-rails      c  \\\n",
       "java                                                                         \n",
       "0     19065  19065  19065  19065  19065        19065          19065  19065   \n",
       "1      3051   3051   3051   3051   3051         3051           3051   3051   \n",
       "\n",
       "      iphone  angularjs  arrays  \n",
       "java                             \n",
       "0      19065      19065   19065  \n",
       "1       3051       3051    3051  "
      ]
     },
     "execution_count": 46,
     "metadata": {},
     "output_type": "execute_result"
    }
   ],
   "source": [
    "df_clean.groupby('java').count()"
   ]
  },
  {
   "cell_type": "code",
   "execution_count": 48,
   "metadata": {},
   "outputs": [
    {
     "name": "stdout",
     "output_type": "stream",
     "text": [
      "... Processing javascript\n",
      "Test auc roc score is  0.8814046747001061\n",
      "Test accuracy is 0.9025462726250127\n",
      "... Processing java\n",
      "Test auc roc score is  0.8885088998485645\n",
      "Test accuracy is 0.899505766062603\n",
      "... Processing c#\n",
      "Test auc roc score is  0.8438427267405565\n",
      "Test accuracy is 0.8607816449543069\n",
      "... Processing php\n",
      "Test auc roc score is  0.8048152977666162\n",
      "Test accuracy is 0.9237268246890401\n",
      "... Processing android\n",
      "Test auc roc score is  0.9324978645366354\n",
      "Test accuracy is 0.9453833470733718\n",
      "... Processing jquery\n",
      "Test auc roc score is  0.8222429859876453\n",
      "Test accuracy is 0.9255955873723741\n",
      "... Processing python\n",
      "Test auc roc score is  0.90921420110167\n",
      "Test accuracy is 0.9441220717816462\n",
      "... Processing html\n",
      "Test auc roc score is  0.8880687117253778\n",
      "Test accuracy is 0.9209863588667366\n",
      "... Processing .net\n",
      "Test auc roc score is  0.7675860524317561\n",
      "Test accuracy is 0.8742806551571491\n",
      "... Processing c++\n",
      "Test auc roc score is  0.8566744609248292\n",
      "Test accuracy is 0.9102076312642678\n",
      "... Processing ios\n",
      "Test auc roc score is  0.7877254697871464\n",
      "Test accuracy is 0.9156128117243825\n",
      "... Processing mysql\n",
      "Test auc roc score is  0.7231784946807881\n",
      "Test accuracy is 0.9458497521291471\n",
      "... Processing css\n",
      "Test auc roc score is  0.8354063471250972\n",
      "Test accuracy is 0.9493300852618758\n",
      "... Processing sql\n",
      "Test auc roc score is  0.8876775967097231\n",
      "Test accuracy is 0.9592911877394636\n",
      "... Processing objective-c\n",
      "Test auc roc score is  0.8845467348314184\n",
      "Test accuracy is 0.9364819066360556\n",
      "... Processing ruby-on-rails\n",
      "Test auc roc score is  0.7937850043506501\n",
      "Test accuracy is 0.9522619345163709\n",
      "... Processing c\n",
      "Test auc roc score is  0.764014438833511\n",
      "Test accuracy is 0.8817700709379575\n",
      "... Processing iphone\n",
      "Test auc roc score is  0.7214914343962129\n",
      "Test accuracy is 0.9207677165354331\n",
      "... Processing angularjs\n",
      "Test auc roc score is  0.7206148282097649\n",
      "Test accuracy is 0.9600310438494374\n",
      "... Processing arrays\n",
      "Test auc roc score is  0.7427859349871468\n",
      "Test accuracy is 0.9365410580581809\n"
     ]
    }
   ],
   "source": [
    "list_of_models={}\n",
    "for category in categories:\n",
    "    df_temp = df_clean.copy()\n",
    "    df_temp = df_temp.append(df_temp.loc[df_temp[category]==1])\n",
    "    auc = 0\n",
    "    print('... Processing {}'.format(category))\n",
    "    while(auc<0.7):\n",
    "        df_temp = df_temp.append(df_temp.loc[df_temp[category]==1])\n",
    "        train, test = train_test_split(df_temp, random_state=42, test_size=0.33, shuffle=True)\n",
    "        X_train = train.Title\n",
    "        X_test = test.Title\n",
    "        x = getPipe()\n",
    "        # train the model using X_dtm & y\n",
    "        list_of_models[category] = x.fit(X_train, train[category],)\n",
    "        # compute the testing accuracy\n",
    "        prediction = x.predict(X_test)\n",
    "        auc = roc_auc_score(test[category], prediction)\n",
    "        #print(df_temp.shape,'-',auc)\n",
    "    print('Test auc roc score is ',(roc_auc_score(test[category], prediction)))\n",
    "    print('Test accuracy is {}'.format(accuracy_score(test[category], prediction)))"
   ]
  },
  {
   "cell_type": "code",
   "execution_count": 162,
   "metadata": {
    "collapsed": true
   },
   "outputs": [
    {
     "data": {
      "text/plain": [
       "['javascript',\n",
       " 'java',\n",
       " 'c#',\n",
       " 'php',\n",
       " 'android',\n",
       " 'jquery',\n",
       " 'python',\n",
       " 'html',\n",
       " '.net',\n",
       " 'c++',\n",
       " 'ios',\n",
       " 'mysql',\n",
       " 'css',\n",
       " 'sql',\n",
       " 'objective-c',\n",
       " 'ruby-on-rails',\n",
       " 'c',\n",
       " 'iphone',\n",
       " 'angularjs',\n",
       " 'arrays']"
      ]
     },
     "execution_count": 162,
     "metadata": {},
     "output_type": "execute_result"
    }
   ],
   "source": [
    "predicts = pd.DataFrame(list_of_models['java'].predict_proba(X_test))\n",
    "predicts[1].apply(lambda x : x>0.2).astype(int)\n",
    "categories"
   ]
  },
  {
   "cell_type": "code",
   "execution_count": 184,
   "metadata": {},
   "outputs": [
    {
     "name": "stderr",
     "output_type": "stream",
     "text": [
      "C:\\Anaconda3\\lib\\site-packages\\matplotlib\\figure.py:445: UserWarning: Matplotlib is currently using module://ipykernel.pylab.backend_inline, which is a non-GUI backend, so cannot show the figure.\n",
      "  % get_backend())\n",
      "C:\\Anaconda3\\lib\\site-packages\\matplotlib\\figure.py:445: UserWarning: Matplotlib is currently using module://ipykernel.pylab.backend_inline, which is a non-GUI backend, so cannot show the figure.\n",
      "  % get_backend())\n",
      "C:\\Anaconda3\\lib\\site-packages\\matplotlib\\figure.py:445: UserWarning: Matplotlib is currently using module://ipykernel.pylab.backend_inline, which is a non-GUI backend, so cannot show the figure.\n",
      "  % get_backend())\n",
      "C:\\Anaconda3\\lib\\site-packages\\matplotlib\\figure.py:445: UserWarning: Matplotlib is currently using module://ipykernel.pylab.backend_inline, which is a non-GUI backend, so cannot show the figure.\n",
      "  % get_backend())\n",
      "C:\\Anaconda3\\lib\\site-packages\\matplotlib\\figure.py:445: UserWarning: Matplotlib is currently using module://ipykernel.pylab.backend_inline, which is a non-GUI backend, so cannot show the figure.\n",
      "  % get_backend())\n",
      "C:\\Anaconda3\\lib\\site-packages\\matplotlib\\figure.py:445: UserWarning: Matplotlib is currently using module://ipykernel.pylab.backend_inline, which is a non-GUI backend, so cannot show the figure.\n",
      "  % get_backend())\n"
     ]
    },
    {
     "data": {
      "image/png": "[encoded data removed]",
      "text/plain": [
       "<Figure size 3600x720 with 3 Axes>"
      ]
     },
     "metadata": {
      "needs_background": "light"
     },
     "output_type": "display_data"
    },
    {
     "data": {
      "image/png": "[encoded data removed]",
      "text/plain": [
       "<Figure size 3600x720 with 3 Axes>"
      ]
     },
     "metadata": {
      "needs_background": "light"
     },
     "output_type": "display_data"
    },
    {
     "data": {
      "image/png": "[encoded data removed]",
      "text/plain": [
       "<Figure size 3600x720 with 3 Axes>"
      ]
     },
     "metadata": {
      "needs_background": "light"
     },
     "output_type": "display_data"
    },
    {
     "data": {
      "image/png": "[encoded data removed]",
      "text/plain": [
       "<Figure size 3600x720 with 3 Axes>"
      ]
     },
     "metadata": {
      "needs_background": "light"
     },
     "output_type": "display_data"
    },
    {
     "data": {
      "image/png": "[encoded data removed]",
      "text/plain": [
       "<Figure size 3600x720 with 3 Axes>"
      ]
     },
     "metadata": {
      "needs_background": "light"
     },
     "output_type": "display_data"
    },
    {
     "data": {
      "image/png": "[encoded data removed]",
      "text/plain": [
       "<Figure size 3600x720 with 3 Axes>"
      ]
     },
     "metadata": {
      "needs_background": "light"
     },
     "output_type": "display_data"
    },
    {
     "data": {
      "image/png": "[encoded data removed]",
      "text/plain": [
       "<Figure size 3600x720 with 2 Axes>"
      ]
     },
     "metadata": {
      "needs_background": "light"
     },
     "output_type": "display_data"
    }
   ],
   "source": [
    "temps = 251\n",
    "cont=0\n",
    "fig=plt.figure(figsize=(50,10))\n",
    "plt.subplots_adjust(hspace = 1,wspace=1)\n",
    "max_aucs = {}\n",
    "\n",
    "for c in categories:\n",
    "    m=(0,0)\n",
    "    auc_Scores = []\n",
    "    predicts = pd.DataFrame(list_of_models[c].predict_proba(X_test))\n",
    "    for i in np.arange(0, 1, 0.01):\n",
    "        temp = predicts[1].apply(lambda x : x>i).astype(int)\n",
    "        r = roc_auc_score(test[c],temp)\n",
    "        auc_Scores.append(r)\n",
    "        if(r>=m[0]):\n",
    "            #print(m[0],r)\n",
    "            m = (r,i)\n",
    "    max_aucs[c]=m\n",
    "    ax1 = fig.add_subplot(temps)\n",
    "    temps +=1\n",
    "    if(temps%10==0):\n",
    "        temps+=1\n",
    "    ax1.set_ylim(0,1)\n",
    "    ax1.set_title(c)\n",
    "    ax1.set_ylabel('auc_Score')\n",
    "    ax1.set_xlabel('threshold')\n",
    "    ax1.plot(np.arange(0, 1, 0.01),auc_Scores) \n",
    "    cont+=1\n",
    "    if(cont>2):\n",
    "        cont=0\n",
    "        temps=251\n",
    "        fig.show()\n",
    "        fig=plt.figure(figsize=(50,10))"
   ]
  },
  {
   "cell_type": "code",
   "execution_count": 183,
   "metadata": {},
   "outputs": [
    {
     "data": {
      "text/plain": [
       "{'javascript': (0.9179105379671425, 0.4),\n",
       " 'java': (0.9103622207640208, 0.44),\n",
       " 'c#': (0.879725694392341, 0.41000000000000003),\n",
       " 'php': (0.9183339534972474, 0.22),\n",
       " 'android': (0.9478791636039772, 0.39),\n",
       " 'jquery': (0.9222671764013417, 0.24),\n",
       " 'python': (0.9461595015392484, 0.36),\n",
       " 'html': (0.9202405300609314, 0.34),\n",
       " '.net': (0.8732434595516477, 0.2),\n",
       " 'c++': (0.9130317621634693, 0.31),\n",
       " 'ios': (0.9335083870377987, 0.17),\n",
       " 'mysql': (0.9325807429057732, 0.1),\n",
       " 'css': (0.9476817655462956, 0.17),\n",
       " 'sql': (0.9580659471051529, 0.22),\n",
       " 'objective-c': (0.9478580190957752, 0.28),\n",
       " 'ruby-on-rails': (0.944062026207494, 0.1),\n",
       " 'c': (0.8802596743039829, 0.21),\n",
       " 'iphone': (0.9253471372794615, 0.13),\n",
       " 'angularjs': (0.9520239861063714, 0.11),\n",
       " 'arrays': (0.9473822581703523, 0.14)}"
      ]
     },
     "execution_count": 183,
     "metadata": {},
     "output_type": "execute_result"
    }
   ],
   "source": [
    "max_aucs"
   ]
  },
  {
   "cell_type": "code",
   "execution_count": null,
   "metadata": {},
   "outputs": [],
   "source": [
    "df_clean.groupby('c++').count()"
   ]
  },
  {
   "cell_type": "code",
   "execution_count": null,
   "metadata": {},
   "outputs": [],
   "source": [
    "df_clean.to_csv('../Data/cleanDF.csv',encoding='latin')"
   ]
  },
  {
   "cell_type": "code",
   "execution_count": null,
   "metadata": {},
   "outputs": [],
   "source": [
    "backup.head()"
   ]
  },
  {
   "cell_type": "code",
   "execution_count": null,
   "metadata": {},
   "outputs": [],
   "source": [
    "def Predicts(title):\n",
    "    predicts = {}\n",
    "    for m in list_of_models.items():\n",
    "        predicts[m[0]] = m[1].predict([title])[0]\n",
    "    return predicts"
   ]
  },
  {
   "cell_type": "code",
   "execution_count": null,
   "metadata": {},
   "outputs": [],
   "source": [
    "print(Predicts('SELECT WITH MULTIPLE CONDITIONS'))"
   ]
  },
  {
   "cell_type": "code",
   "execution_count": null,
   "metadata": {},
   "outputs": [],
   "source": [
    "print(Predicts('SYSTEM.OUT.PRINTLN not working'))"
   ]
  },
  {
   "cell_type": "code",
   "execution_count": null,
   "metadata": {},
   "outputs": [],
   "source": [
    "print(Predicts('How to start a thread pool?'))"
   ]
  },
  {
   "cell_type": "code",
   "execution_count": null,
   "metadata": {},
   "outputs": [],
   "source": [
    "print(Predicts('How to connect ASP.net to SQL database'))"
   ]
  },
  {
   "cell_type": "code",
   "execution_count": null,
   "metadata": {},
   "outputs": [],
   "source": [
    "print(Predicts('How to print in .NET application'))"
   ]
  },
  {
   "cell_type": "code",
   "execution_count": null,
   "metadata": {},
   "outputs": [],
   "source": [
    "print(Predicts('How to print with Ruby?'))"
   ]
  },
  {
   "cell_type": "markdown",
   "metadata": {},
   "source": [
    "### Export Pickle Model"
   ]
  },
  {
   "cell_type": "code",
   "execution_count": null,
   "metadata": {},
   "outputs": [],
   "source": [
    "import pickle"
   ]
  },
  {
   "cell_type": "code",
   "execution_count": null,
   "metadata": {},
   "outputs": [],
   "source": [
    "for m in list_of_models.items():\n",
    "    filename = './pickle/' + m[0] + '.nav'\n",
    "    #print(filename)\n",
    "    file = open(filename,\"w+\")\n",
    "    pickle.dump(m[1],open(filename,'wb'))"
   ]
  },
  {
   "cell_type": "markdown",
   "metadata": {},
   "source": [
    "#### Teste"
   ]
  },
  {
   "cell_type": "code",
   "execution_count": null,
   "metadata": {},
   "outputs": [],
   "source": [
    "model = pickle.load(open('./pickle/java.nav','rb'))\n",
    "model.predict(['System.out.println not working'])[0]"
   ]
  },
  {
   "cell_type": "markdown",
   "metadata": {},
   "source": [
    "### Using KMeans to define 'Good Questions'"
   ]
  },
  {
   "cell_type": "code",
   "execution_count": null,
   "metadata": {},
   "outputs": [],
   "source": [
    "df_q = df_q.sort_values('n_score',ascending=False)\n",
    "df_q = df_q.dropna()"
   ]
  },
  {
   "cell_type": "code",
   "execution_count": null,
   "metadata": {},
   "outputs": [],
   "source": [
    "df_cluster = df_q.copy()\n",
    "del df_cluster['Title']\n",
    "del df_cluster['Score']\n",
    "del df_cluster['Id']\n",
    "del df_cluster['TagTitle']"
   ]
  },
  {
   "cell_type": "code",
   "execution_count": null,
   "metadata": {},
   "outputs": [],
   "source": [
    "kmeans = KMeans(n_clusters=4)\n",
    "kmeans.fit(df_cluster)"
   ]
  },
  {
   "cell_type": "code",
   "execution_count": null,
   "metadata": {},
   "outputs": [],
   "source": [
    "#Visualizar com PCA\n",
    "pca = PCA(n_components=5).fit(df_cluster)\n",
    "pca_2d = pca.transform(df_cluster)"
   ]
  },
  {
   "cell_type": "code",
   "execution_count": null,
   "metadata": {},
   "outputs": [],
   "source": [
    "pl.scatter(pca_2d[:,0],pca_2d[:,1],c='black')\n",
    "pl.show()"
   ]
  },
  {
   "cell_type": "code",
   "execution_count": null,
   "metadata": {
    "scrolled": true
   },
   "outputs": [],
   "source": [
    "def ehBom(x):\n",
    "    if(x>0.6):\n",
    "        return 1\n",
    "    else:\n",
    "        return 0\n",
    "df_cluster['flag_bom'] = df_cluster.n_score.apply(lambda x: ehBom(x))"
   ]
  },
  {
   "cell_type": "code",
   "execution_count": null,
   "metadata": {},
   "outputs": [],
   "source": []
  },
  {
   "cell_type": "code",
   "execution_count": null,
   "metadata": {},
   "outputs": [],
   "source": [
    "#df_cluster.flag_bom\n",
    "#kmeans.labels_"
   ]
  },
  {
   "cell_type": "code",
   "execution_count": null,
   "metadata": {},
   "outputs": [],
   "source": [
    "df_cluster['cluster'] = pd.Series(kmeans.labels_)"
   ]
  },
  {
   "cell_type": "code",
   "execution_count": null,
   "metadata": {},
   "outputs": [],
   "source": [
    "df_cluster.groupby('cluster').mean()"
   ]
  },
  {
   "cell_type": "code",
   "execution_count": null,
   "metadata": {},
   "outputs": [],
   "source": []
  }
 ],
 "metadata": {
  "kernelspec": {
   "display_name": "Python 3",
   "language": "python",
   "name": "python3"
  },
  "language_info": {
   "codemirror_mode": {
    "name": "ipython",
    "version": 3
   },
   "file_extension": ".py",
   "mimetype": "text/x-python",
   "name": "python",
   "nbconvert_exporter": "python",
   "pygments_lexer": "ipython3",
   "version": "3.7.3"
  }
 },
 "nbformat": 4,
 "nbformat_minor": 2
}
